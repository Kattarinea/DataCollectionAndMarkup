{
 "cells": [
  {
   "cell_type": "code",
   "execution_count": 150,
   "id": "initial_id",
   "metadata": {
    "collapsed": true,
    "ExecuteTime": {
     "end_time": "2023-11-28T13:19:44.549346600Z",
     "start_time": "2023-11-28T13:19:44.531313Z"
    }
   },
   "outputs": [],
   "source": [
    "import xml.etree.ElementTree as ET\n",
    "from collections import defaultdict\n",
    "from shapely.geometry import box\n",
    "import os\n",
    "import plotly.graph_objects as go"
   ]
  },
  {
   "cell_type": "code",
   "execution_count": 2,
   "outputs": [],
   "source": [
    "def read_annotation(file_path):\n",
    "    tree = ET.parse(file_path)\n",
    "    root = tree.getroot()\n",
    "\n",
    "    annotation = {\n",
    "        'filename': root.find('filename').text,\n",
    "        'objects': []\n",
    "    }\n",
    "\n",
    "    for obj in root.findall('object'):\n",
    "        obj_data = {\n",
    "            'name': obj.find('name').text,\n",
    "            'bbox': (\n",
    "                int(obj.find('bndbox/xmin').text),\n",
    "                int(obj.find('bndbox/ymin').text),\n",
    "                int(obj.find('bndbox/xmax').text),\n",
    "                int(obj.find('bndbox/ymax').text)\n",
    "            )\n",
    "        }\n",
    "        annotation['objects'].append(obj_data)\n",
    "\n",
    "    return annotation"
   ],
   "metadata": {
    "collapsed": false,
    "ExecuteTime": {
     "end_time": "2023-11-28T10:10:10.343822900Z",
     "start_time": "2023-11-28T10:10:10.337822500Z"
    }
   },
   "id": "6a4732f22188b411"
  },
  {
   "cell_type": "code",
   "execution_count": 95,
   "outputs": [],
   "source": [
    "def calculate_intersection(bbox1, bbox2):\n",
    "    rect1 = box(*bbox1)\n",
    "    rect2 = box(*bbox2)\n",
    "    intersection = rect1.intersection(rect2)\n",
    "    intersection_area = intersection.area\n",
    "\n",
    "    min_area = min(rect1.area, rect2.area)\n",
    "    percentage_intersection = (intersection_area / min_area) * 100\n",
    "\n",
    "    area_difference = abs(rect1.area - rect2.area)\n",
    "    percentage_area_difference = (area_difference / min_area) * 100\n",
    "\n",
    "    return percentage_intersection, percentage_area_difference"
   ],
   "metadata": {
    "collapsed": false,
    "ExecuteTime": {
     "end_time": "2023-11-28T10:55:09.268544Z",
     "start_time": "2023-11-28T10:55:09.256544200Z"
    }
   },
   "id": "4ab09c1a25d0d633"
  },
  {
   "cell_type": "code",
   "execution_count": 189,
   "outputs": [],
   "source": [
    "def compare_annotations(annotation1, annotation2, discrepancies_name, no_discrepancies):\n",
    "    discrepancies = defaultdict(list)\n",
    "    discrepancies_flag = False\n",
    "    obj1 = annotation1['objects'][0]\n",
    "    obj2 = annotation2['objects'][0]\n",
    "    intersection_area, area_difference = calculate_intersection(obj1['bbox'], obj2['bbox'])\n",
    "\n",
    "    if obj1['name'] != obj2['name']:\n",
    "        discrepancies['class'].append((obj1['name'], obj2['name']))\n",
    "        discrepancies_flag = True\n",
    "        discrepancies_name += 1\n",
    "\n",
    "    if intersection_area < 92 or area_difference > 22:\n",
    "        discrepancies['bbox'].append((obj1['bbox'], obj2['bbox']))\n",
    "        discrepancies['intersection_area'].append(intersection_area)\n",
    "        if intersection_area < 92:\n",
    "            discrepancies_mas_intersection_area['file'].append(annotation1['filename'])\n",
    "            discrepancies_mas_intersection_area['intersection_area'].append(intersection_area)\n",
    "        discrepancies['area_difference'].append(area_difference)\n",
    "        if area_difference > 22:\n",
    "            discrepancies_mas_area_difference['file'].append(annotation1['filename'])\n",
    "            discrepancies_mas_area_difference['area_difference'].append(area_difference)\n",
    "        discrepancies_flag = True\n",
    "\n",
    "    if discrepancies_flag:\n",
    "        print(\n",
    "            f\"Discrepancies: {discrepancies['class']}\\n{discrepancies['bbox']}\\n{discrepancies['intersection_area']}\\n{discrepancies['area_difference']}\\n\\n\")\n",
    "    else:\n",
    "        print('OK\\n\\n')\n",
    "        no_discrepancies += 1\n",
    "    return discrepancies_name, no_discrepancies"
   ],
   "metadata": {
    "collapsed": false,
    "ExecuteTime": {
     "end_time": "2023-11-28T16:06:09.092004900Z",
     "start_time": "2023-11-28T16:06:09.073004800Z"
    }
   },
   "id": "51bf3d6f212dbfe4"
  },
  {
   "cell_type": "code",
   "execution_count": 126,
   "outputs": [],
   "source": [
    "def get_files_in_directory(directory, extension):\n",
    "    files = []\n",
    "    for file in os.listdir(directory):\n",
    "        if file.endswith(extension):\n",
    "            files.append(os.path.join(directory, file))\n",
    "    return files"
   ],
   "metadata": {
    "collapsed": false,
    "ExecuteTime": {
     "end_time": "2023-11-28T12:53:29.053248500Z",
     "start_time": "2023-11-28T12:53:29.037248500Z"
    }
   },
   "id": "d516a43035777f2e"
  },
  {
   "cell_type": "code",
   "execution_count": 127,
   "outputs": [],
   "source": [
    "def get_matching_files(dir1, dir2, file_extension):\n",
    "    matching_files = []\n",
    "\n",
    "    files1 = get_files_in_directory(dir1, file_extension)\n",
    "    files2 = get_files_in_directory(dir2, file_extension)\n",
    "\n",
    "    file_names1 = {os.path.splitext(os.path.basename(file))[0] for file in files1}\n",
    "    file_names2 = {os.path.splitext(os.path.basename(file))[0] for file in files2}\n",
    "\n",
    "    common_file_names = file_names1.intersection(file_names2)\n",
    "\n",
    "    matching_files = [(os.path.join(dir1, f\"{file_name}{file_extension}\"),\n",
    "                       os.path.join(dir2, f\"{file_name}{file_extension}\"))\n",
    "                      for file_name in common_file_names]\n",
    "\n",
    "    return matching_files"
   ],
   "metadata": {
    "collapsed": false,
    "ExecuteTime": {
     "end_time": "2023-11-28T12:53:29.659458100Z",
     "start_time": "2023-11-28T12:53:29.654458Z"
    }
   },
   "id": "796eee21f85cc3f"
  },
  {
   "cell_type": "code",
   "execution_count": 192,
   "outputs": [],
   "source": [
    "def visual_discrepancies():\n",
    "    ideal_value = 92  \n",
    "\n",
    "    relative_values = [100 * (ideal_value - value) / ideal_value for value in discrepancies_mas_intersection_area['intersection_area']]\n",
    "\n",
    "    fig = go.Figure()\n",
    "    fig.add_trace(go.Scatter(x=list(range(len(discrepancies_mas_intersection_area['intersection_area']))), y=relative_values, mode='lines', name='Intersection area is less than 92%'))\n",
    "    fig.update_layout(\n",
    "        title='The spread of data relative to the ideal 92%',\n",
    "        xaxis=dict(title='Data point number'),\n",
    "        yaxis=dict(title='Relative value from ideal (%)'),\n",
    "        template='plotly_dark',\n",
    "        showlegend=True\n",
    "    )\n",
    "    fig.show()\n",
    "    \n",
    "    ideal_value = 22 \n",
    "\n",
    "    relative_values = [100 * (value - ideal_value) / ideal_value for value in discrepancies_mas_area_difference['area_difference']]\n",
    "\n",
    "    fig = go.Figure()\n",
    "    fig.add_trace(go.Scatter(x=list(range(len(discrepancies_mas_area_difference['area_difference']))), y=relative_values, mode='lines', name='Area difference is more than 22%'))\n",
    "    fig.update_layout(\n",
    "        title='The spread of data relative to the ideal 22%',\n",
    "        xaxis=dict(title='Data point number'),\n",
    "        yaxis=dict(title='Relative value from ideal (%)'),\n",
    "        template='plotly_dark',\n",
    "        showlegend=True\n",
    "    )\n",
    "    fig.show()"
   ],
   "metadata": {
    "collapsed": false,
    "ExecuteTime": {
     "end_time": "2023-11-28T16:07:11.161192900Z",
     "start_time": "2023-11-28T16:07:11.145115600Z"
    }
   },
   "id": "bb95d31e271368d2"
  },
  {
   "cell_type": "code",
   "execution_count": 190,
   "outputs": [
    {
     "name": "stdout",
     "output_type": "stream",
     "text": [
      "Files for comparison: D:\\Katerina\\HaGRID_marked\\247.xml и D:\\Katerina\\HaGRID_marked2\\247.xml\n",
      "OK\n",
      "\n",
      "\n",
      "Files for comparison: D:\\Katerina\\HaGRID_marked\\244.xml и D:\\Katerina\\HaGRID_marked2\\244.xml\n",
      "Discrepancies: []\n",
      "[((939, 214, 1337, 718), (965, 206, 1299, 674))]\n",
      "[98.29059829059828]\n",
      "[28.327959465684017]\n",
      "\n",
      "\n",
      "Files for comparison: D:\\Katerina\\HaGRID_marked\\24.xml и D:\\Katerina\\HaGRID_marked2\\24.xml\n",
      "OK\n",
      "\n",
      "\n",
      "Files for comparison: D:\\Katerina\\HaGRID_marked\\278.xml и D:\\Katerina\\HaGRID_marked2\\278.xml\n",
      "Discrepancies: []\n",
      "[((711, 678, 829, 842), (709, 674, 851, 844))]\n",
      "[100.0]\n",
      "[24.741628772219926]\n",
      "\n",
      "\n",
      "Files for comparison: D:\\Katerina\\HaGRID_marked\\285.xml и D:\\Katerina\\HaGRID_marked2\\285.xml\n",
      "OK\n",
      "\n",
      "\n",
      "Files for comparison: D:\\Katerina\\HaGRID_marked\\29.xml и D:\\Katerina\\HaGRID_marked2\\29.xml\n",
      "OK\n",
      "\n",
      "\n",
      "Files for comparison: D:\\Katerina\\HaGRID_marked\\220.xml и D:\\Katerina\\HaGRID_marked2\\220.xml\n",
      "Discrepancies: []\n",
      "[((151, 624, 367, 968), (139, 642, 383, 950))]\n",
      "[89.53488372093024]\n",
      "[1.1412575366063737]\n",
      "\n",
      "\n",
      "Files for comparison: D:\\Katerina\\HaGRID_marked\\273.xml и D:\\Katerina\\HaGRID_marked2\\273.xml\n",
      "OK\n",
      "\n",
      "\n",
      "Files for comparison: D:\\Katerina\\HaGRID_marked\\215.xml и D:\\Katerina\\HaGRID_marked2\\215.xml\n",
      "OK\n",
      "\n",
      "\n",
      "Files for comparison: D:\\Katerina\\HaGRID_marked\\191.xml и D:\\Katerina\\HaGRID_marked2\\191.xml\n",
      "OK\n",
      "\n",
      "\n",
      "Files for comparison: D:\\Katerina\\HaGRID_marked\\225.xml и D:\\Katerina\\HaGRID_marked2\\225.xml\n",
      "OK\n",
      "\n",
      "\n",
      "Files for comparison: D:\\Katerina\\HaGRID_marked\\138.xml и D:\\Katerina\\HaGRID_marked2\\138.xml\n",
      "OK\n",
      "\n",
      "\n",
      "Files for comparison: D:\\Katerina\\HaGRID_marked\\197.xml и D:\\Katerina\\HaGRID_marked2\\197.xml\n",
      "OK\n",
      "\n",
      "\n",
      "Files for comparison: D:\\Katerina\\HaGRID_marked\\249.xml и D:\\Katerina\\HaGRID_marked2\\249.xml\n",
      "OK\n",
      "\n",
      "\n",
      "Files for comparison: D:\\Katerina\\HaGRID_marked\\216.xml и D:\\Katerina\\HaGRID_marked2\\216.xml\n",
      "OK\n",
      "\n",
      "\n",
      "Files for comparison: D:\\Katerina\\HaGRID_marked\\132.xml и D:\\Katerina\\HaGRID_marked2\\132.xml\n",
      "OK\n",
      "\n",
      "\n",
      "Files for comparison: D:\\Katerina\\HaGRID_marked\\195.xml и D:\\Katerina\\HaGRID_marked2\\195.xml\n",
      "OK\n",
      "\n",
      "\n",
      "Files for comparison: D:\\Katerina\\HaGRID_marked\\137.xml и D:\\Katerina\\HaGRID_marked2\\137.xml\n",
      "OK\n",
      "\n",
      "\n",
      "Files for comparison: D:\\Katerina\\HaGRID_marked\\110.xml и D:\\Katerina\\HaGRID_marked2\\110.xml\n",
      "OK\n",
      "\n",
      "\n",
      "Files for comparison: D:\\Katerina\\HaGRID_marked\\177.xml и D:\\Katerina\\HaGRID_marked2\\177.xml\n",
      "OK\n",
      "\n",
      "\n",
      "Files for comparison: D:\\Katerina\\HaGRID_marked\\192.xml и D:\\Katerina\\HaGRID_marked2\\192.xml\n",
      "Discrepancies: []\n",
      "[((411, 960, 523, 1124), (415, 968, 520, 1108))]\n",
      "[100.0]\n",
      "[24.952380952380953]\n",
      "\n",
      "\n",
      "Files for comparison: D:\\Katerina\\HaGRID_marked\\121.xml и D:\\Katerina\\HaGRID_marked2\\121.xml\n",
      "Discrepancies: []\n",
      "[((691, 1348, 807, 1560), (674, 1352, 802, 1554))]\n",
      "[91.17599219258295]\n",
      "[5.139882888744307]\n",
      "\n",
      "\n",
      "Files for comparison: D:\\Katerina\\HaGRID_marked\\236.xml и D:\\Katerina\\HaGRID_marked2\\236.xml\n",
      "OK\n",
      "\n",
      "\n",
      "Files for comparison: D:\\Katerina\\HaGRID_marked\\237.xml и D:\\Katerina\\HaGRID_marked2\\237.xml\n",
      "Discrepancies: []\n",
      "[((917, 452, 1125, 754), (923, 476, 1095, 748))]\n",
      "[100.0]\n",
      "[34.26812585499316]\n",
      "\n",
      "\n",
      "Files for comparison: D:\\Katerina\\HaGRID_marked\\288.xml и D:\\Katerina\\HaGRID_marked2\\288.xml\n",
      "OK\n",
      "\n",
      "\n",
      "Files for comparison: D:\\Katerina\\HaGRID_marked\\253.xml и D:\\Katerina\\HaGRID_marked2\\253.xml\n",
      "Discrepancies: []\n",
      "[((677, 984, 733, 1058), (676, 980, 749, 1059))]\n",
      "[100.0]\n",
      "[39.165057915057915]\n",
      "\n",
      "\n",
      "Files for comparison: D:\\Katerina\\HaGRID_marked\\21.xml и D:\\Katerina\\HaGRID_marked2\\21.xml\n",
      "OK\n",
      "\n",
      "\n",
      "Files for comparison: D:\\Katerina\\HaGRID_marked\\251.xml и D:\\Katerina\\HaGRID_marked2\\251.xml\n",
      "OK\n",
      "\n",
      "\n",
      "Files for comparison: D:\\Katerina\\HaGRID_marked\\211.xml и D:\\Katerina\\HaGRID_marked2\\211.xml\n",
      "OK\n",
      "\n",
      "\n",
      "Files for comparison: D:\\Katerina\\HaGRID_marked\\258.xml и D:\\Katerina\\HaGRID_marked2\\258.xml\n",
      "OK\n",
      "\n",
      "\n",
      "Files for comparison: D:\\Katerina\\HaGRID_marked\\155.xml и D:\\Katerina\\HaGRID_marked2\\155.xml\n",
      "OK\n",
      "\n",
      "\n",
      "Files for comparison: D:\\Katerina\\HaGRID_marked\\153.xml и D:\\Katerina\\HaGRID_marked2\\153.xml\n",
      "OK\n",
      "\n",
      "\n",
      "Files for comparison: D:\\Katerina\\HaGRID_marked\\183.xml и D:\\Katerina\\HaGRID_marked2\\183.xml\n",
      "Discrepancies: [('like', 'ok')]\n",
      "[((649, 1126, 737, 1256), (664, 1128, 728, 1256))]\n",
      "[100.0]\n",
      "[39.6484375]\n",
      "\n",
      "\n",
      "Files for comparison: D:\\Katerina\\HaGRID_marked\\179.xml и D:\\Katerina\\HaGRID_marked2\\179.xml\n",
      "OK\n",
      "\n",
      "\n",
      "Files for comparison: D:\\Katerina\\HaGRID_marked\\100.xml и D:\\Katerina\\HaGRID_marked2\\100.xml\n",
      "OK\n",
      "\n",
      "\n",
      "Files for comparison: D:\\Katerina\\HaGRID_marked\\171.xml и D:\\Katerina\\HaGRID_marked2\\171.xml\n",
      "OK\n",
      "\n",
      "\n",
      "Files for comparison: D:\\Katerina\\HaGRID_marked\\15.xml и D:\\Katerina\\HaGRID_marked2\\15.xml\n",
      "Discrepancies: []\n",
      "[((1023, 559, 1078, 640), (1025, 563, 1072, 633))]\n",
      "[100.0]\n",
      "[35.410334346504555]\n",
      "\n",
      "\n",
      "Files for comparison: D:\\Katerina\\HaGRID_marked\\151.xml и D:\\Katerina\\HaGRID_marked2\\151.xml\n",
      "OK\n",
      "\n",
      "\n",
      "Files for comparison: D:\\Katerina\\HaGRID_marked\\176.xml и D:\\Katerina\\HaGRID_marked2\\176.xml\n",
      "OK\n",
      "\n",
      "\n",
      "Files for comparison: D:\\Katerina\\HaGRID_marked\\118.xml и D:\\Katerina\\HaGRID_marked2\\118.xml\n",
      "Discrepancies: []\n",
      "[((545, 810, 693, 1004), (565, 818, 688, 993))]\n",
      "[100.0]\n",
      "[33.38908246225319]\n",
      "\n",
      "\n",
      "Files for comparison: D:\\Katerina\\HaGRID_marked\\152.xml и D:\\Katerina\\HaGRID_marked2\\152.xml\n",
      "OK\n",
      "\n",
      "\n",
      "Files for comparison: D:\\Katerina\\HaGRID_marked\\241.xml и D:\\Katerina\\HaGRID_marked2\\241.xml\n",
      "OK\n",
      "\n",
      "\n",
      "Files for comparison: D:\\Katerina\\HaGRID_marked\\266.xml и D:\\Katerina\\HaGRID_marked2\\266.xml\n",
      "Discrepancies: []\n",
      "[((609, 926, 807, 1194), (637, 936, 803, 1186))]\n",
      "[100.0]\n",
      "[27.865060240963857]\n",
      "\n",
      "\n",
      "Files for comparison: D:\\Katerina\\HaGRID_marked\\229.xml и D:\\Katerina\\HaGRID_marked2\\229.xml\n",
      "OK\n",
      "\n",
      "\n",
      "Files for comparison: D:\\Katerina\\HaGRID_marked\\231.xml и D:\\Katerina\\HaGRID_marked2\\231.xml\n",
      "Discrepancies: []\n",
      "[((784, 609, 911, 828), (766, 609, 912, 848))]\n",
      "[100.0]\n",
      "[25.45931758530184]\n",
      "\n",
      "\n",
      "Files for comparison: D:\\Katerina\\HaGRID_marked\\223.xml и D:\\Katerina\\HaGRID_marked2\\223.xml\n",
      "OK\n",
      "\n",
      "\n",
      "Files for comparison: D:\\Katerina\\HaGRID_marked\\219.xml и D:\\Katerina\\HaGRID_marked2\\219.xml\n",
      "OK\n",
      "\n",
      "\n",
      "Files for comparison: D:\\Katerina\\HaGRID_marked\\210.xml и D:\\Katerina\\HaGRID_marked2\\210.xml\n",
      "OK\n",
      "\n",
      "\n",
      "Files for comparison: D:\\Katerina\\HaGRID_marked\\201.xml и D:\\Katerina\\HaGRID_marked2\\201.xml\n",
      "OK\n",
      "\n",
      "\n",
      "Files for comparison: D:\\Katerina\\HaGRID_marked\\130.xml и D:\\Katerina\\HaGRID_marked2\\130.xml\n",
      "OK\n",
      "\n",
      "\n",
      "Files for comparison: D:\\Katerina\\HaGRID_marked\\209.xml и D:\\Katerina\\HaGRID_marked2\\209.xml\n",
      "OK\n",
      "\n",
      "\n",
      "Files for comparison: D:\\Katerina\\HaGRID_marked\\157.xml и D:\\Katerina\\HaGRID_marked2\\157.xml\n",
      "OK\n",
      "\n",
      "\n",
      "Files for comparison: D:\\Katerina\\HaGRID_marked\\270.xml и D:\\Katerina\\HaGRID_marked2\\270.xml\n",
      "OK\n",
      "\n",
      "\n",
      "Files for comparison: D:\\Katerina\\HaGRID_marked\\250.xml и D:\\Katerina\\HaGRID_marked2\\250.xml\n",
      "Discrepancies: []\n",
      "[((703, 848, 815, 1016), (709, 852, 843, 1012))]\n",
      "[90.1360544217687]\n",
      "[13.945578231292515]\n",
      "\n",
      "\n",
      "Files for comparison: D:\\Katerina\\HaGRID_marked\\194.xml и D:\\Katerina\\HaGRID_marked2\\194.xml\n",
      "OK\n",
      "\n",
      "\n",
      "Files for comparison: D:\\Katerina\\HaGRID_marked\\200.xml и D:\\Katerina\\HaGRID_marked2\\200.xml\n",
      "OK\n",
      "\n",
      "\n",
      "Files for comparison: D:\\Katerina\\HaGRID_marked\\119.xml и D:\\Katerina\\HaGRID_marked2\\119.xml\n",
      "OK\n",
      "\n",
      "\n",
      "Files for comparison: D:\\Katerina\\HaGRID_marked\\142.xml и D:\\Katerina\\HaGRID_marked2\\142.xml\n",
      "Discrepancies: []\n",
      "[((996, 253, 1157, 477), (1007, 256, 1163, 444))]\n",
      "[96.15384615384616]\n",
      "[22.967812329514455]\n",
      "\n",
      "\n",
      "Files for comparison: D:\\Katerina\\HaGRID_marked\\248.xml и D:\\Katerina\\HaGRID_marked2\\248.xml\n",
      "Discrepancies: []\n",
      "[((343, 235, 380, 281), (349, 238, 379, 282))]\n",
      "[97.72727272727273]\n",
      "[28.939393939393938]\n",
      "\n",
      "\n",
      "Files for comparison: D:\\Katerina\\HaGRID_marked\\146.xml и D:\\Katerina\\HaGRID_marked2\\146.xml\n",
      "Discrepancies: []\n",
      "[((735, 672, 817, 764), (747, 676, 812, 759))]\n",
      "[100.0]\n",
      "[39.83317886932345]\n",
      "\n",
      "\n",
      "Files for comparison: D:\\Katerina\\HaGRID_marked\\232.xml и D:\\Katerina\\HaGRID_marked2\\232.xml\n",
      "Discrepancies: []\n",
      "[((847, 664, 1035, 930), (871, 668, 1099, 952))]\n",
      "[85.92225243960966]\n",
      "[29.48328267477204]\n",
      "\n",
      "\n",
      "Files for comparison: D:\\Katerina\\HaGRID_marked\\182.xml и D:\\Katerina\\HaGRID_marked2\\182.xml\n",
      "Discrepancies: []\n",
      "[((185, 582, 325, 742), (193, 589, 316, 726))]\n",
      "[100.0]\n",
      "[32.92979645124918]\n",
      "\n",
      "\n",
      "Files for comparison: D:\\Katerina\\HaGRID_marked\\276.xml и D:\\Katerina\\HaGRID_marked2\\276.xml\n",
      "OK\n",
      "\n",
      "\n",
      "Files for comparison: D:\\Katerina\\HaGRID_marked\\274.xml и D:\\Katerina\\HaGRID_marked2\\274.xml\n",
      "Discrepancies: []\n",
      "[((686, 1158, 780, 1306), (674, 1164, 792, 1300))]\n",
      "[91.8918918918919]\n",
      "[15.35365152386429]\n",
      "\n",
      "\n",
      "Files for comparison: D:\\Katerina\\HaGRID_marked\\255.xml и D:\\Katerina\\HaGRID_marked2\\255.xml\n",
      "OK\n",
      "\n",
      "\n",
      "Files for comparison: D:\\Katerina\\HaGRID_marked\\147.xml и D:\\Katerina\\HaGRID_marked2\\147.xml\n",
      "OK\n",
      "\n",
      "\n",
      "Files for comparison: D:\\Katerina\\HaGRID_marked\\134.xml и D:\\Katerina\\HaGRID_marked2\\134.xml\n",
      "OK\n",
      "\n",
      "\n",
      "Files for comparison: D:\\Katerina\\HaGRID_marked\\108.xml и D:\\Katerina\\HaGRID_marked2\\108.xml\n",
      "Discrepancies: []\n",
      "[((835, 754, 895, 852), (841, 768, 884, 845))]\n",
      "[100.0]\n",
      "[77.58985200845666]\n",
      "\n",
      "\n",
      "Files for comparison: D:\\Katerina\\HaGRID_marked\\115.xml и D:\\Katerina\\HaGRID_marked2\\115.xml\n",
      "OK\n",
      "\n",
      "\n",
      "Files for comparison: D:\\Katerina\\HaGRID_marked\\281.xml и D:\\Katerina\\HaGRID_marked2\\281.xml\n",
      "OK\n",
      "\n",
      "\n",
      "Files for comparison: D:\\Katerina\\HaGRID_marked\\125.xml и D:\\Katerina\\HaGRID_marked2\\125.xml\n",
      "Discrepancies: []\n",
      "[((639, 630, 857, 878), (649, 635, 842, 856))]\n",
      "[100.0]\n",
      "[26.75310060253675]\n",
      "\n",
      "\n",
      "Files for comparison: D:\\Katerina\\HaGRID_marked\\133.xml и D:\\Katerina\\HaGRID_marked2\\133.xml\n",
      "OK\n",
      "\n",
      "\n",
      "Files for comparison: D:\\Katerina\\HaGRID_marked\\189.xml и D:\\Katerina\\HaGRID_marked2\\189.xml\n",
      "OK\n",
      "\n",
      "\n",
      "Files for comparison: D:\\Katerina\\HaGRID_marked\\16.xml и D:\\Katerina\\HaGRID_marked2\\16.xml\n",
      "OK\n",
      "\n",
      "\n",
      "Files for comparison: D:\\Katerina\\HaGRID_marked\\20.xml и D:\\Katerina\\HaGRID_marked2\\20.xml\n",
      "OK\n",
      "\n",
      "\n",
      "Files for comparison: D:\\Katerina\\HaGRID_marked\\299.xml и D:\\Katerina\\HaGRID_marked2\\299.xml\n",
      "Discrepancies: []\n",
      "[((503, 956, 595, 1092), (530, 957, 597, 1097))]\n",
      "[93.5501066098081]\n",
      "[33.39019189765459]\n",
      "\n",
      "\n",
      "Files for comparison: D:\\Katerina\\HaGRID_marked\\264.xml и D:\\Katerina\\HaGRID_marked2\\264.xml\n",
      "OK\n",
      "\n",
      "\n",
      "Files for comparison: D:\\Katerina\\HaGRID_marked\\268.xml и D:\\Katerina\\HaGRID_marked2\\268.xml\n",
      "OK\n",
      "\n",
      "\n",
      "Files for comparison: D:\\Katerina\\HaGRID_marked\\23.xml и D:\\Katerina\\HaGRID_marked2\\23.xml\n",
      "OK\n",
      "\n",
      "\n",
      "Files for comparison: D:\\Katerina\\HaGRID_marked\\260.xml и D:\\Katerina\\HaGRID_marked2\\260.xml\n",
      "OK\n",
      "\n",
      "\n",
      "Files for comparison: D:\\Katerina\\HaGRID_marked\\114.xml и D:\\Katerina\\HaGRID_marked2\\114.xml\n",
      "OK\n",
      "\n",
      "\n",
      "Files for comparison: D:\\Katerina\\HaGRID_marked\\262.xml и D:\\Katerina\\HaGRID_marked2\\262.xml\n",
      "OK\n",
      "\n",
      "\n",
      "Files for comparison: D:\\Katerina\\HaGRID_marked\\122.xml и D:\\Katerina\\HaGRID_marked2\\122.xml\n",
      "OK\n",
      "\n",
      "\n",
      "Files for comparison: D:\\Katerina\\HaGRID_marked\\14.xml и D:\\Katerina\\HaGRID_marked2\\14.xml\n",
      "Discrepancies: []\n",
      "[((453, 898, 627, 1068), (477, 905, 619, 1072))]\n",
      "[97.60479041916167]\n",
      "[24.736442607742262]\n",
      "\n",
      "\n",
      "Files for comparison: D:\\Katerina\\HaGRID_marked\\174.xml и D:\\Katerina\\HaGRID_marked2\\174.xml\n",
      "OK\n",
      "\n",
      "\n",
      "Files for comparison: D:\\Katerina\\HaGRID_marked\\185.xml и D:\\Katerina\\HaGRID_marked2\\185.xml\n",
      "OK\n",
      "\n",
      "\n",
      "Files for comparison: D:\\Katerina\\HaGRID_marked\\256.xml и D:\\Katerina\\HaGRID_marked2\\256.xml\n",
      "OK\n",
      "\n",
      "\n",
      "Files for comparison: D:\\Katerina\\HaGRID_marked\\101.xml и D:\\Katerina\\HaGRID_marked2\\101.xml\n",
      "Discrepancies: []\n",
      "[((433, 1088, 559, 1254), (445, 1090, 543, 1246))]\n",
      "[100.0]\n",
      "[36.81318681318682]\n",
      "\n",
      "\n",
      "Files for comparison: D:\\Katerina\\HaGRID_marked\\145.xml и D:\\Katerina\\HaGRID_marked2\\145.xml\n",
      "Discrepancies: [('like', 'ok')]\n",
      "[((705, 648, 875, 880), (725, 652, 865, 868))]\n",
      "[100.0]\n",
      "[30.423280423280424]\n",
      "\n",
      "\n",
      "Files for comparison: D:\\Katerina\\HaGRID_marked\\259.xml и D:\\Katerina\\HaGRID_marked2\\259.xml\n",
      "OK\n",
      "\n",
      "\n",
      "Files for comparison: D:\\Katerina\\HaGRID_marked\\141.xml и D:\\Katerina\\HaGRID_marked2\\141.xml\n",
      "Discrepancies: []\n",
      "[((601, 514, 677, 600), (610, 523, 673, 601))]\n",
      "[98.71794871794873]\n",
      "[33.00773300773301]\n",
      "\n",
      "\n",
      "Files for comparison: D:\\Katerina\\HaGRID_marked\\222.xml и D:\\Katerina\\HaGRID_marked2\\222.xml\n",
      "OK\n",
      "\n",
      "\n",
      "Files for comparison: D:\\Katerina\\HaGRID_marked\\128.xml и D:\\Katerina\\HaGRID_marked2\\128.xml\n",
      "OK\n",
      "\n",
      "\n",
      "Files for comparison: D:\\Katerina\\HaGRID_marked\\103.xml и D:\\Katerina\\HaGRID_marked2\\103.xml\n",
      "OK\n",
      "\n",
      "\n",
      "Files for comparison: D:\\Katerina\\HaGRID_marked\\18.xml и D:\\Katerina\\HaGRID_marked2\\18.xml\n",
      "OK\n",
      "\n",
      "\n",
      "Files for comparison: D:\\Katerina\\HaGRID_marked\\298.xml и D:\\Katerina\\HaGRID_marked2\\298.xml\n",
      "OK\n",
      "\n",
      "\n",
      "Files for comparison: D:\\Katerina\\HaGRID_marked\\11.xml и D:\\Katerina\\HaGRID_marked2\\11.xml\n",
      "Discrepancies: []\n",
      "[((507, 1246, 603, 1392), (519, 1252, 601, 1384))]\n",
      "[100.0]\n",
      "[29.490022172949004]\n",
      "\n",
      "\n",
      "Files for comparison: D:\\Katerina\\HaGRID_marked\\173.xml и D:\\Katerina\\HaGRID_marked2\\173.xml\n",
      "OK\n",
      "\n",
      "\n",
      "Files for comparison: D:\\Katerina\\HaGRID_marked\\180.xml и D:\\Katerina\\HaGRID_marked2\\180.xml\n",
      "OK\n",
      "\n",
      "\n",
      "Files for comparison: D:\\Katerina\\HaGRID_marked\\143.xml и D:\\Katerina\\HaGRID_marked2\\143.xml\n",
      "OK\n",
      "\n",
      "\n",
      "Files for comparison: D:\\Katerina\\HaGRID_marked\\282.xml и D:\\Katerina\\HaGRID_marked2\\282.xml\n",
      "Discrepancies: []\n",
      "[((437, 902, 533, 1056), (427, 910, 549, 1072))]\n",
      "[94.8051948051948]\n",
      "[33.685064935064936]\n",
      "\n",
      "\n",
      "Files for comparison: D:\\Katerina\\HaGRID_marked\\294.xml и D:\\Katerina\\HaGRID_marked2\\294.xml\n",
      "OK\n",
      "\n",
      "\n",
      "Files for comparison: D:\\Katerina\\HaGRID_marked\\297.xml и D:\\Katerina\\HaGRID_marked2\\297.xml\n",
      "OK\n",
      "\n",
      "\n",
      "Files for comparison: D:\\Katerina\\HaGRID_marked\\207.xml и D:\\Katerina\\HaGRID_marked2\\207.xml\n",
      "OK\n",
      "\n",
      "\n",
      "Files for comparison: D:\\Katerina\\HaGRID_marked\\284.xml и D:\\Katerina\\HaGRID_marked2\\284.xml\n",
      "OK\n",
      "\n",
      "\n",
      "Files for comparison: D:\\Katerina\\HaGRID_marked\\13.xml и D:\\Katerina\\HaGRID_marked2\\13.xml\n",
      "OK\n",
      "\n",
      "\n",
      "Files for comparison: D:\\Katerina\\HaGRID_marked\\188.xml и D:\\Katerina\\HaGRID_marked2\\188.xml\n",
      "OK\n",
      "\n",
      "\n",
      "Files for comparison: D:\\Katerina\\HaGRID_marked\\178.xml и D:\\Katerina\\HaGRID_marked2\\178.xml\n",
      "OK\n",
      "\n",
      "\n",
      "Files for comparison: D:\\Katerina\\HaGRID_marked\\107.xml и D:\\Katerina\\HaGRID_marked2\\107.xml\n",
      "OK\n",
      "\n",
      "\n",
      "Files for comparison: D:\\Katerina\\HaGRID_marked\\159.xml и D:\\Katerina\\HaGRID_marked2\\159.xml\n",
      "Discrepancies: []\n",
      "[((509, 568, 683, 810), (489, 580, 671, 798))]\n",
      "[89.01098901098901]\n",
      "[6.129650166347414]\n",
      "\n",
      "\n",
      "Files for comparison: D:\\Katerina\\HaGRID_marked\\117.xml и D:\\Katerina\\HaGRID_marked2\\117.xml\n",
      "OK\n",
      "\n",
      "\n",
      "Files for comparison: D:\\Katerina\\HaGRID_marked\\160.xml и D:\\Katerina\\HaGRID_marked2\\160.xml\n",
      "OK\n",
      "\n",
      "\n",
      "Files for comparison: D:\\Katerina\\HaGRID_marked\\167.xml и D:\\Katerina\\HaGRID_marked2\\167.xml\n",
      "OK\n",
      "\n",
      "\n",
      "Files for comparison: D:\\Katerina\\HaGRID_marked\\199.xml и D:\\Katerina\\HaGRID_marked2\\199.xml\n",
      "Discrepancies: []\n",
      "[((467, 940, 599, 1126), (449, 946, 609, 1148))]\n",
      "[96.7741935483871]\n",
      "[31.638970348647767]\n",
      "\n",
      "\n",
      "Files for comparison: D:\\Katerina\\HaGRID_marked\\212.xml и D:\\Katerina\\HaGRID_marked2\\212.xml\n",
      "OK\n",
      "\n",
      "\n",
      "Files for comparison: D:\\Katerina\\HaGRID_marked\\105.xml и D:\\Katerina\\HaGRID_marked2\\105.xml\n",
      "Discrepancies: []\n",
      "[((593, 960, 743, 1168), (607, 974, 739, 1160))]\n",
      "[100.0]\n",
      "[27.077223851417397]\n",
      "\n",
      "\n",
      "Files for comparison: D:\\Katerina\\HaGRID_marked\\252.xml и D:\\Katerina\\HaGRID_marked2\\252.xml\n",
      "OK\n",
      "\n",
      "\n",
      "Files for comparison: D:\\Katerina\\HaGRID_marked\\28.xml и D:\\Katerina\\HaGRID_marked2\\28.xml\n",
      "OK\n",
      "\n",
      "\n",
      "Files for comparison: D:\\Katerina\\HaGRID_marked\\283.xml и D:\\Katerina\\HaGRID_marked2\\283.xml\n",
      "Discrepancies: []\n",
      "[((325, 708, 543, 1050), (311, 724, 559, 1034))]\n",
      "[90.64327485380117]\n",
      "[3.1171200171683027]\n",
      "\n",
      "\n",
      "Files for comparison: D:\\Katerina\\HaGRID_marked\\286.xml и D:\\Katerina\\HaGRID_marked2\\286.xml\n",
      "OK\n",
      "\n",
      "\n",
      "Files for comparison: D:\\Katerina\\HaGRID_marked\\135.xml и D:\\Katerina\\HaGRID_marked2\\135.xml\n",
      "OK\n",
      "\n",
      "\n",
      "Files for comparison: D:\\Katerina\\HaGRID_marked\\140.xml и D:\\Katerina\\HaGRID_marked2\\140.xml\n",
      "Discrepancies: []\n",
      "[((1150, 771, 1305, 936), (1165, 754, 1304, 938))]\n",
      "[89.6774193548387]\n",
      "[0.0039100684261974585]\n",
      "\n",
      "\n",
      "Files for comparison: D:\\Katerina\\HaGRID_marked\\129.xml и D:\\Katerina\\HaGRID_marked2\\129.xml\n",
      "OK\n",
      "\n",
      "\n",
      "Files for comparison: D:\\Katerina\\HaGRID_marked\\170.xml и D:\\Katerina\\HaGRID_marked2\\170.xml\n",
      "Discrepancies: []\n",
      "[((343, 998, 423, 1118), (354, 1009, 414, 1117))]\n",
      "[100.0]\n",
      "[48.148148148148145]\n",
      "\n",
      "\n",
      "Files for comparison: D:\\Katerina\\HaGRID_marked\\275.xml и D:\\Katerina\\HaGRID_marked2\\275.xml\n",
      "Discrepancies: []\n",
      "[((754, 924, 918, 1168), (768, 964, 928, 1164))]\n",
      "[93.75]\n",
      "[25.05]\n",
      "\n",
      "\n",
      "Files for comparison: D:\\Katerina\\HaGRID_marked\\150.xml и D:\\Katerina\\HaGRID_marked2\\150.xml\n",
      "OK\n",
      "\n",
      "\n",
      "Files for comparison: D:\\Katerina\\HaGRID_marked\\214.xml и D:\\Katerina\\HaGRID_marked2\\214.xml\n",
      "Discrepancies: []\n",
      "[((623, 534, 769, 730), (652, 537, 766, 722))]\n",
      "[100.0]\n",
      "[35.685158843053586]\n",
      "\n",
      "\n",
      "Files for comparison: D:\\Katerina\\HaGRID_marked\\26.xml и D:\\Katerina\\HaGRID_marked2\\26.xml\n",
      "OK\n",
      "\n",
      "\n",
      "Files for comparison: D:\\Katerina\\HaGRID_marked\\111.xml и D:\\Katerina\\HaGRID_marked2\\111.xml\n",
      "OK\n",
      "\n",
      "\n",
      "Files for comparison: D:\\Katerina\\HaGRID_marked\\164.xml и D:\\Katerina\\HaGRID_marked2\\164.xml\n",
      "OK\n",
      "\n",
      "\n",
      "Files for comparison: D:\\Katerina\\HaGRID_marked\\106.xml и D:\\Katerina\\HaGRID_marked2\\106.xml\n",
      "OK\n",
      "\n",
      "\n",
      "Files for comparison: D:\\Katerina\\HaGRID_marked\\213.xml и D:\\Katerina\\HaGRID_marked2\\213.xml\n",
      "OK\n",
      "\n",
      "\n",
      "Files for comparison: D:\\Katerina\\HaGRID_marked\\279.xml и D:\\Katerina\\HaGRID_marked2\\279.xml\n",
      "OK\n",
      "\n",
      "\n",
      "Files for comparison: D:\\Katerina\\HaGRID_marked\\296.xml и D:\\Katerina\\HaGRID_marked2\\296.xml\n",
      "OK\n",
      "\n",
      "\n",
      "Files for comparison: D:\\Katerina\\HaGRID_marked\\161.xml и D:\\Katerina\\HaGRID_marked2\\161.xml\n",
      "OK\n",
      "\n",
      "\n",
      "Files for comparison: D:\\Katerina\\HaGRID_marked\\226.xml и D:\\Katerina\\HaGRID_marked2\\226.xml\n",
      "Discrepancies: []\n",
      "[((578, 486, 665, 600), (574, 481, 668, 589))]\n",
      "[90.35087719298247]\n",
      "[2.35934664246824]\n",
      "\n",
      "\n",
      "Files for comparison: D:\\Katerina\\HaGRID_marked\\242.xml и D:\\Katerina\\HaGRID_marked2\\242.xml\n",
      "OK\n",
      "\n",
      "\n",
      "Files for comparison: D:\\Katerina\\HaGRID_marked\\123.xml и D:\\Katerina\\HaGRID_marked2\\123.xml\n",
      "OK\n",
      "\n",
      "\n",
      "Files for comparison: D:\\Katerina\\HaGRID_marked\\124.xml и D:\\Katerina\\HaGRID_marked2\\124.xml\n",
      "OK\n",
      "\n",
      "\n",
      "Files for comparison: D:\\Katerina\\HaGRID_marked\\127.xml и D:\\Katerina\\HaGRID_marked2\\127.xml\n",
      "Discrepancies: [('like', 'dislike')]\n",
      "[]\n",
      "[]\n",
      "[]\n",
      "\n",
      "\n",
      "Files for comparison: D:\\Katerina\\HaGRID_marked\\163.xml и D:\\Katerina\\HaGRID_marked2\\163.xml\n",
      "Discrepancies: []\n",
      "[((391, 788, 469, 872), (399, 787, 463, 862))]\n",
      "[98.66666666666667]\n",
      "[36.5]\n",
      "\n",
      "\n",
      "Files for comparison: D:\\Katerina\\HaGRID_marked\\184.xml и D:\\Katerina\\HaGRID_marked2\\184.xml\n",
      "OK\n",
      "\n",
      "\n",
      "Files for comparison: D:\\Katerina\\HaGRID_marked\\277.xml и D:\\Katerina\\HaGRID_marked2\\277.xml\n",
      "OK\n",
      "\n",
      "\n",
      "Files for comparison: D:\\Katerina\\HaGRID_marked\\269.xml и D:\\Katerina\\HaGRID_marked2\\269.xml\n",
      "Discrepancies: []\n",
      "[((431, 354, 553, 536), (415, 354, 569, 544))]\n",
      "[100.0]\n",
      "[31.778058007566205]\n",
      "\n",
      "\n",
      "Files for comparison: D:\\Katerina\\HaGRID_marked\\243.xml и D:\\Katerina\\HaGRID_marked2\\243.xml\n",
      "OK\n",
      "\n",
      "\n",
      "Files for comparison: D:\\Katerina\\HaGRID_marked\\208.xml и D:\\Katerina\\HaGRID_marked2\\208.xml\n",
      "OK\n",
      "\n",
      "\n",
      "Files for comparison: D:\\Katerina\\HaGRID_marked\\169.xml и D:\\Katerina\\HaGRID_marked2\\169.xml\n",
      "OK\n",
      "\n",
      "\n",
      "Files for comparison: D:\\Katerina\\HaGRID_marked\\112.xml и D:\\Katerina\\HaGRID_marked2\\112.xml\n",
      "OK\n",
      "\n",
      "\n",
      "Files for comparison: D:\\Katerina\\HaGRID_marked\\227.xml и D:\\Katerina\\HaGRID_marked2\\227.xml\n",
      "OK\n",
      "\n",
      "\n",
      "Files for comparison: D:\\Katerina\\HaGRID_marked\\131.xml и D:\\Katerina\\HaGRID_marked2\\131.xml\n",
      "OK\n",
      "\n",
      "\n",
      "Files for comparison: D:\\Katerina\\HaGRID_marked\\172.xml и D:\\Katerina\\HaGRID_marked2\\172.xml\n",
      "OK\n",
      "\n",
      "\n",
      "Files for comparison: D:\\Katerina\\HaGRID_marked\\144.xml и D:\\Katerina\\HaGRID_marked2\\144.xml\n",
      "OK\n",
      "\n",
      "\n",
      "Files for comparison: D:\\Katerina\\HaGRID_marked\\204.xml и D:\\Katerina\\HaGRID_marked2\\204.xml\n",
      "OK\n",
      "\n",
      "\n",
      "Files for comparison: D:\\Katerina\\HaGRID_marked\\235.xml и D:\\Katerina\\HaGRID_marked2\\235.xml\n",
      "OK\n",
      "\n",
      "\n",
      "Files for comparison: D:\\Katerina\\HaGRID_marked\\206.xml и D:\\Katerina\\HaGRID_marked2\\206.xml\n",
      "OK\n",
      "\n",
      "\n",
      "Files for comparison: D:\\Katerina\\HaGRID_marked\\113.xml и D:\\Katerina\\HaGRID_marked2\\113.xml\n",
      "OK\n",
      "\n",
      "\n",
      "Files for comparison: D:\\Katerina\\HaGRID_marked\\271.xml и D:\\Katerina\\HaGRID_marked2\\271.xml\n",
      "OK\n",
      "\n",
      "\n",
      "Files for comparison: D:\\Katerina\\HaGRID_marked\\12.xml и D:\\Katerina\\HaGRID_marked2\\12.xml\n",
      "OK\n",
      "\n",
      "\n",
      "Files for comparison: D:\\Katerina\\HaGRID_marked\\205.xml и D:\\Katerina\\HaGRID_marked2\\205.xml\n",
      "OK\n",
      "\n",
      "\n",
      "Files for comparison: D:\\Katerina\\HaGRID_marked\\120.xml и D:\\Katerina\\HaGRID_marked2\\120.xml\n",
      "OK\n",
      "\n",
      "\n",
      "Files for comparison: D:\\Katerina\\HaGRID_marked\\104.xml и D:\\Katerina\\HaGRID_marked2\\104.xml\n",
      "OK\n",
      "\n",
      "\n",
      "Files for comparison: D:\\Katerina\\HaGRID_marked\\246.xml и D:\\Katerina\\HaGRID_marked2\\246.xml\n",
      "Discrepancies: []\n",
      "[((701, 1456, 787, 1598), (703, 1470, 795, 1602))]\n",
      "[88.53754940711462]\n",
      "[0.5599472990777339]\n",
      "\n",
      "\n",
      "Files for comparison: D:\\Katerina\\HaGRID_marked\\218.xml и D:\\Katerina\\HaGRID_marked2\\218.xml\n",
      "OK\n",
      "\n",
      "\n",
      "Files for comparison: D:\\Katerina\\HaGRID_marked\\265.xml и D:\\Katerina\\HaGRID_marked2\\265.xml\n",
      "OK\n",
      "\n",
      "\n",
      "Files for comparison: D:\\Katerina\\HaGRID_marked\\291.xml и D:\\Katerina\\HaGRID_marked2\\291.xml\n",
      "Discrepancies: [('like', 'ok')]\n",
      "[((869, 748, 1440, 1910), (767, 678, 1435, 1892))]\n",
      "[97.5888542913209]\n",
      "[22.22299254561403]\n",
      "\n",
      "\n",
      "Files for comparison: D:\\Katerina\\HaGRID_marked\\25.xml и D:\\Katerina\\HaGRID_marked2\\25.xml\n",
      "Discrepancies: []\n",
      "[((867, 732, 1085, 974), (879, 750, 1057, 974))]\n",
      "[100.0]\n",
      "[32.31340288924559]\n",
      "\n",
      "\n",
      "Files for comparison: D:\\Katerina\\HaGRID_marked\\156.xml и D:\\Katerina\\HaGRID_marked2\\156.xml\n",
      "OK\n",
      "\n",
      "\n",
      "Files for comparison: D:\\Katerina\\HaGRID_marked\\228.xml и D:\\Katerina\\HaGRID_marked2\\228.xml\n",
      "OK\n",
      "\n",
      "\n",
      "Files for comparison: D:\\Katerina\\HaGRID_marked\\22.xml и D:\\Katerina\\HaGRID_marked2\\22.xml\n",
      "OK\n",
      "\n",
      "\n",
      "Files for comparison: D:\\Katerina\\HaGRID_marked\\233.xml и D:\\Katerina\\HaGRID_marked2\\233.xml\n",
      "Discrepancies: []\n",
      "[((535, 680, 677, 894), (521, 684, 663, 890))]\n",
      "[90.14084507042254]\n",
      "[3.8834951456310676]\n",
      "\n",
      "\n",
      "Files for comparison: D:\\Katerina\\HaGRID_marked\\190.xml и D:\\Katerina\\HaGRID_marked2\\190.xml\n",
      "OK\n",
      "\n",
      "\n",
      "Files for comparison: D:\\Katerina\\HaGRID_marked\\257.xml и D:\\Katerina\\HaGRID_marked2\\257.xml\n",
      "OK\n",
      "\n",
      "\n",
      "Files for comparison: D:\\Katerina\\HaGRID_marked\\198.xml и D:\\Katerina\\HaGRID_marked2\\198.xml\n",
      "OK\n",
      "\n",
      "\n",
      "Files for comparison: D:\\Katerina\\HaGRID_marked\\193.xml и D:\\Katerina\\HaGRID_marked2\\193.xml\n",
      "OK\n",
      "\n",
      "\n",
      "Files for comparison: D:\\Katerina\\HaGRID_marked\\126.xml и D:\\Katerina\\HaGRID_marked2\\126.xml\n",
      "OK\n",
      "\n",
      "\n",
      "Files for comparison: D:\\Katerina\\HaGRID_marked\\168.xml и D:\\Katerina\\HaGRID_marked2\\168.xml\n",
      "OK\n",
      "\n",
      "\n",
      "Files for comparison: D:\\Katerina\\HaGRID_marked\\261.xml и D:\\Katerina\\HaGRID_marked2\\261.xml\n",
      "Discrepancies: []\n",
      "[((587, 391, 732, 588), (615, 392, 741, 590))]\n",
      "[91.91919191919192]\n",
      "[14.49815616482283]\n",
      "\n",
      "\n",
      "Files for comparison: D:\\Katerina\\HaGRID_marked\\290.xml и D:\\Katerina\\HaGRID_marked2\\290.xml\n",
      "OK\n",
      "\n",
      "\n",
      "Files for comparison: D:\\Katerina\\HaGRID_marked\\158.xml и D:\\Katerina\\HaGRID_marked2\\158.xml\n",
      "OK\n",
      "\n",
      "\n",
      "Files for comparison: D:\\Katerina\\HaGRID_marked\\254.xml и D:\\Katerina\\HaGRID_marked2\\254.xml\n",
      "Discrepancies: []\n",
      "[((531, 520, 649, 686), (531, 514, 663, 700))]\n",
      "[100.0]\n",
      "[25.342046150704512]\n",
      "\n",
      "\n",
      "Files for comparison: D:\\Katerina\\HaGRID_marked\\165.xml и D:\\Katerina\\HaGRID_marked2\\165.xml\n",
      "OK\n",
      "\n",
      "\n",
      "Files for comparison: D:\\Katerina\\HaGRID_marked\\109.xml и D:\\Katerina\\HaGRID_marked2\\109.xml\n",
      "OK\n",
      "\n",
      "\n",
      "Files for comparison: D:\\Katerina\\HaGRID_marked\\203.xml и D:\\Katerina\\HaGRID_marked2\\203.xml\n",
      "OK\n",
      "\n",
      "\n",
      "Files for comparison: D:\\Katerina\\HaGRID_marked\\1.xml и D:\\Katerina\\HaGRID_marked2\\1.xml\n",
      "Discrepancies: []\n",
      "[((675, 854, 765, 956), (683, 853, 738, 950))]\n",
      "[98.96907216494846]\n",
      "[72.07122774133083]\n",
      "\n",
      "\n",
      "Files for comparison: D:\\Katerina\\HaGRID_marked\\154.xml и D:\\Katerina\\HaGRID_marked2\\154.xml\n",
      "OK\n",
      "\n",
      "\n",
      "Files for comparison: D:\\Katerina\\HaGRID_marked\\175.xml и D:\\Katerina\\HaGRID_marked2\\175.xml\n",
      "OK\n",
      "\n",
      "\n",
      "Files for comparison: D:\\Katerina\\HaGRID_marked\\221.xml и D:\\Katerina\\HaGRID_marked2\\221.xml\n",
      "OK\n",
      "\n",
      "\n",
      "Files for comparison: D:\\Katerina\\HaGRID_marked\\234.xml и D:\\Katerina\\HaGRID_marked2\\234.xml\n",
      "Discrepancies: []\n",
      "[((642, 568, 747, 715), (632, 575, 769, 714))]\n",
      "[94.5578231292517]\n",
      "[23.37544541626174]\n",
      "\n",
      "\n",
      "Files for comparison: D:\\Katerina\\HaGRID_marked\\162.xml и D:\\Katerina\\HaGRID_marked2\\162.xml\n",
      "Discrepancies: []\n",
      "[((399, 772, 487, 898), (412, 783, 481, 880))]\n",
      "[100.0]\n",
      "[65.6656207978485]\n",
      "\n",
      "\n",
      "Files for comparison: D:\\Katerina\\HaGRID_marked\\166.xml и D:\\Katerina\\HaGRID_marked2\\166.xml\n",
      "Discrepancies: []\n",
      "[((575, 812, 723, 1072), (533, 824, 723, 1086))]\n",
      "[95.38461538461539]\n",
      "[29.365904365904367]\n",
      "\n",
      "\n",
      "Files for comparison: D:\\Katerina\\HaGRID_marked\\102.xml и D:\\Katerina\\HaGRID_marked2\\102.xml\n",
      "OK\n",
      "\n",
      "\n",
      "Files for comparison: D:\\Katerina\\HaGRID_marked\\238.xml и D:\\Katerina\\HaGRID_marked2\\238.xml\n",
      "Discrepancies: []\n",
      "[((559, 1256, 681, 1402), (575, 1256, 703, 1418))]\n",
      "[86.88524590163934]\n",
      "[16.415899393667193]\n",
      "\n",
      "\n",
      "Files for comparison: D:\\Katerina\\HaGRID_marked\\187.xml и D:\\Katerina\\HaGRID_marked2\\187.xml\n",
      "Discrepancies: []\n",
      "[((1048, 177, 1253, 433), (1056, 184, 1229, 418))]\n",
      "[100.0]\n",
      "[29.637863741909985]\n",
      "\n",
      "\n",
      "Files for comparison: D:\\Katerina\\HaGRID_marked\\280.xml и D:\\Katerina\\HaGRID_marked2\\280.xml\n",
      "Discrepancies: []\n",
      "[((657, 1028, 743, 1172), (639, 1034, 755, 1174))]\n",
      "[95.83333333333334]\n",
      "[31.136950904392762]\n",
      "\n",
      "\n",
      "Files for comparison: D:\\Katerina\\HaGRID_marked\\17.xml и D:\\Katerina\\HaGRID_marked2\\17.xml\n",
      "OK\n",
      "\n",
      "\n",
      "Files for comparison: D:\\Katerina\\HaGRID_marked\\2.xml и D:\\Katerina\\HaGRID_marked2\\2.xml\n",
      "OK\n",
      "\n",
      "\n",
      "Files for comparison: D:\\Katerina\\HaGRID_marked\\289.xml и D:\\Katerina\\HaGRID_marked2\\289.xml\n",
      "OK\n",
      "\n",
      "\n",
      "Files for comparison: D:\\Katerina\\HaGRID_marked\\217.xml и D:\\Katerina\\HaGRID_marked2\\217.xml\n",
      "OK\n",
      "\n",
      "\n",
      "Files for comparison: D:\\Katerina\\HaGRID_marked\\224.xml и D:\\Katerina\\HaGRID_marked2\\224.xml\n",
      "OK\n",
      "\n",
      "\n",
      "Files for comparison: D:\\Katerina\\HaGRID_marked\\186.xml и D:\\Katerina\\HaGRID_marked2\\186.xml\n",
      "OK\n",
      "\n",
      "\n",
      "Files for comparison: D:\\Katerina\\HaGRID_marked\\267.xml и D:\\Katerina\\HaGRID_marked2\\267.xml\n",
      "OK\n",
      "\n",
      "\n",
      "Files for comparison: D:\\Katerina\\HaGRID_marked\\139.xml и D:\\Katerina\\HaGRID_marked2\\139.xml\n",
      "Discrepancies: []\n",
      "[((371, 474, 519, 658), (382, 481, 512, 650))]\n",
      "[100.0]\n",
      "[23.950842057350933]\n",
      "\n",
      "\n",
      "Files for comparison: D:\\Katerina\\HaGRID_marked\\239.xml и D:\\Katerina\\HaGRID_marked2\\239.xml\n",
      "OK\n",
      "\n",
      "\n",
      "Files for comparison: D:\\Katerina\\HaGRID_marked\\30.xml и D:\\Katerina\\HaGRID_marked2\\30.xml\n",
      "Discrepancies: []\n",
      "[((691, 666, 811, 840), (693, 664, 826, 823))]\n",
      "[88.72605363984675]\n",
      "[1.278735632183908]\n",
      "\n",
      "\n",
      "Files for comparison: D:\\Katerina\\HaGRID_marked\\136.xml и D:\\Katerina\\HaGRID_marked2\\136.xml\n",
      "OK\n",
      "\n",
      "\n",
      "Files for comparison: D:\\Katerina\\HaGRID_marked\\202.xml и D:\\Katerina\\HaGRID_marked2\\202.xml\n",
      "OK\n",
      "\n",
      "\n",
      "Files for comparison: D:\\Katerina\\HaGRID_marked\\19.xml и D:\\Katerina\\HaGRID_marked2\\19.xml\n",
      "OK\n",
      "\n",
      "\n",
      "Files for comparison: D:\\Katerina\\HaGRID_marked\\181.xml и D:\\Katerina\\HaGRID_marked2\\181.xml\n",
      "Discrepancies: []\n",
      "[((477, 770, 547, 854), (486, 777, 552, 850))]\n",
      "[92.42424242424242]\n",
      "[22.04234122042341]\n",
      "\n",
      "\n",
      "Files for comparison: D:\\Katerina\\HaGRID_marked\\245.xml и D:\\Katerina\\HaGRID_marked2\\245.xml\n",
      "Discrepancies: []\n",
      "[((249, 510, 435, 776), (261, 510, 423, 744))]\n",
      "[100.0]\n",
      "[30.51598607154163]\n",
      "\n",
      "\n",
      "Files for comparison: D:\\Katerina\\HaGRID_marked\\272.xml и D:\\Katerina\\HaGRID_marked2\\272.xml\n",
      "OK\n",
      "\n",
      "\n",
      "Files for comparison: D:\\Katerina\\HaGRID_marked\\27.xml и D:\\Katerina\\HaGRID_marked2\\27.xml\n",
      "OK\n",
      "\n",
      "\n",
      "Files for comparison: D:\\Katerina\\HaGRID_marked\\116.xml и D:\\Katerina\\HaGRID_marked2\\116.xml\n",
      "Discrepancies: []\n",
      "[((695, 766, 763, 872), (698, 772, 756, 870))]\n",
      "[100.0]\n",
      "[26.812104152005627]\n",
      "\n",
      "\n",
      "Files for comparison: D:\\Katerina\\HaGRID_marked\\263.xml и D:\\Katerina\\HaGRID_marked2\\263.xml\n",
      "Discrepancies: []\n",
      "[((629, 618, 729, 746), (643, 622, 723, 742))]\n",
      "[100.0]\n",
      "[33.33333333333333]\n",
      "\n",
      "\n",
      "Files for comparison: D:\\Katerina\\HaGRID_marked\\148.xml и D:\\Katerina\\HaGRID_marked2\\148.xml\n",
      "Discrepancies: []\n",
      "[((321, 490, 475, 764), (293, 494, 495, 750))]\n",
      "[93.43065693430657]\n",
      "[22.551900654090435]\n",
      "\n",
      "\n",
      "Files for comparison: D:\\Katerina\\HaGRID_marked\\230.xml и D:\\Katerina\\HaGRID_marked2\\230.xml\n",
      "OK\n",
      "\n",
      "\n",
      "Discrepancies in name: 4\n",
      "No discrepancies: 155\n"
     ]
    }
   ],
   "source": [
    "dir_expert1 = 'D:\\\\Katerina\\\\HaGRID_marked\\\\'\n",
    "dir_expert2 = 'D:\\\\Katerina\\\\HaGRID_marked2\\\\'\n",
    "file_extension = '.xml'\n",
    "discrepancies_mas_intersection_area = defaultdict(list)\n",
    "discrepancies_mas_area_difference = defaultdict(list)\n",
    "discrepancies_name = 0\n",
    "no_discrepancies = 0\n",
    "\n",
    "matching_files = get_matching_files(dir_expert1, dir_expert2, file_extension)\n",
    "\n",
    "for file_pair in matching_files:\n",
    "    print(f\"Files for comparison: {file_pair[0]} и {file_pair[1]}\")\n",
    "    annotation_expert1 = read_annotation(file_pair[0])\n",
    "    annotation_expert2 = read_annotation(file_pair[1])\n",
    "\n",
    "    discrepancies_name, no_discrepancies = compare_annotations(annotation_expert1, annotation_expert2,discrepancies_name, no_discrepancies)\n",
    "\n",
    "print(f'Discrepancies in name: {discrepancies_name}\\nNo discrepancies: {no_discrepancies}')"
   ],
   "metadata": {
    "collapsed": false,
    "ExecuteTime": {
     "end_time": "2023-11-28T16:06:12.913919900Z",
     "start_time": "2023-11-28T16:06:12.842548400Z"
    }
   },
   "id": "e63ebe81e40eeedf"
  },
  {
   "cell_type": "markdown",
   "source": [
    "Видно, что не все данные были размечены идеально. У двух разметчиков случилось 4 расхождение при классификации жестов на 215 фотографий. При выделении жеста прямоугольником двумя разметчиками получилось так, что у 14 изображений выделяемая площадь пересекалась меньше, чем на 92%. У 46 изображений разница в площадях составила больше 22%, т.е. кто-то из разметчиков мог выделить лишнюю область."
   ],
   "metadata": {
    "collapsed": false
   },
   "id": "923ea7bc78efcc9d"
  },
  {
   "cell_type": "code",
   "execution_count": 164,
   "outputs": [
    {
     "data": {
      "text/plain": "14"
     },
     "execution_count": 164,
     "metadata": {},
     "output_type": "execute_result"
    }
   ],
   "source": [
    "len(discrepancies_mas_intersection_area)"
   ],
   "metadata": {
    "collapsed": false,
    "ExecuteTime": {
     "end_time": "2023-11-28T13:37:58.830632Z",
     "start_time": "2023-11-28T13:37:58.815631400Z"
    }
   },
   "id": "f76a03eaf45967cb"
  },
  {
   "cell_type": "code",
   "execution_count": 165,
   "outputs": [
    {
     "data": {
      "text/plain": "46"
     },
     "execution_count": 165,
     "metadata": {},
     "output_type": "execute_result"
    }
   ],
   "source": [
    "len(discrepancies_mas_area_difference)"
   ],
   "metadata": {
    "collapsed": false,
    "ExecuteTime": {
     "end_time": "2023-11-28T13:38:00.557935300Z",
     "start_time": "2023-11-28T13:38:00.544864100Z"
    }
   },
   "id": "dd85888e1cade57b"
  },
  {
   "cell_type": "markdown",
   "source": [
    "Из первого графика видно, что для 3 и 12 элементов (в списке расхождений по пересечениям площадей) слишком большая разница с эталоном. Значит кто-то из разметчиков мог отрезать что-то важное. Из второго графика видно, что для 15, 34 и 36 элемента второй разметчик добавил слишком много лишнего в выделяемую область.\n",
    "Стоит просмотреть эти элементы, чтобы подкорректировать разметку."
   ],
   "metadata": {
    "collapsed": false
   },
   "id": "35e1550ff3ecf18f"
  },
  {
   "cell_type": "code",
   "execution_count": 193,
   "outputs": [
    {
     "data": {
      "application/vnd.plotly.v1+json": {
       "data": [
        {
         "mode": "lines",
         "name": "Intersection area is less than 92%",
         "x": [
          0,
          1,
          2,
          3,
          4,
          5,
          6,
          7,
          8,
          9,
          10,
          11,
          12,
          13
         ],
         "y": [
          2.679474216380175,
          0.8956606602359206,
          2.026027802425321,
          6.606247348250364,
          0.11750881316097622,
          3.248924988055427,
          1.4747012458682895,
          2.524544179523147,
          1.7925247902364498,
          3.763533253136277,
          2.0208205756276705,
          0.0878348704435686,
          5.559515324305068,
          3.558637347992659
         ],
         "type": "scatter"
        }
       ],
       "layout": {
        "template": {
         "data": {
          "histogram2dcontour": [
           {
            "type": "histogram2dcontour",
            "colorbar": {
             "outlinewidth": 0,
             "ticks": ""
            },
            "colorscale": [
             [
              0.0,
              "#0d0887"
             ],
             [
              0.1111111111111111,
              "#46039f"
             ],
             [
              0.2222222222222222,
              "#7201a8"
             ],
             [
              0.3333333333333333,
              "#9c179e"
             ],
             [
              0.4444444444444444,
              "#bd3786"
             ],
             [
              0.5555555555555556,
              "#d8576b"
             ],
             [
              0.6666666666666666,
              "#ed7953"
             ],
             [
              0.7777777777777778,
              "#fb9f3a"
             ],
             [
              0.8888888888888888,
              "#fdca26"
             ],
             [
              1.0,
              "#f0f921"
             ]
            ]
           }
          ],
          "choropleth": [
           {
            "type": "choropleth",
            "colorbar": {
             "outlinewidth": 0,
             "ticks": ""
            }
           }
          ],
          "histogram2d": [
           {
            "type": "histogram2d",
            "colorbar": {
             "outlinewidth": 0,
             "ticks": ""
            },
            "colorscale": [
             [
              0.0,
              "#0d0887"
             ],
             [
              0.1111111111111111,
              "#46039f"
             ],
             [
              0.2222222222222222,
              "#7201a8"
             ],
             [
              0.3333333333333333,
              "#9c179e"
             ],
             [
              0.4444444444444444,
              "#bd3786"
             ],
             [
              0.5555555555555556,
              "#d8576b"
             ],
             [
              0.6666666666666666,
              "#ed7953"
             ],
             [
              0.7777777777777778,
              "#fb9f3a"
             ],
             [
              0.8888888888888888,
              "#fdca26"
             ],
             [
              1.0,
              "#f0f921"
             ]
            ]
           }
          ],
          "heatmap": [
           {
            "type": "heatmap",
            "colorbar": {
             "outlinewidth": 0,
             "ticks": ""
            },
            "colorscale": [
             [
              0.0,
              "#0d0887"
             ],
             [
              0.1111111111111111,
              "#46039f"
             ],
             [
              0.2222222222222222,
              "#7201a8"
             ],
             [
              0.3333333333333333,
              "#9c179e"
             ],
             [
              0.4444444444444444,
              "#bd3786"
             ],
             [
              0.5555555555555556,
              "#d8576b"
             ],
             [
              0.6666666666666666,
              "#ed7953"
             ],
             [
              0.7777777777777778,
              "#fb9f3a"
             ],
             [
              0.8888888888888888,
              "#fdca26"
             ],
             [
              1.0,
              "#f0f921"
             ]
            ]
           }
          ],
          "heatmapgl": [
           {
            "type": "heatmapgl",
            "colorbar": {
             "outlinewidth": 0,
             "ticks": ""
            },
            "colorscale": [
             [
              0.0,
              "#0d0887"
             ],
             [
              0.1111111111111111,
              "#46039f"
             ],
             [
              0.2222222222222222,
              "#7201a8"
             ],
             [
              0.3333333333333333,
              "#9c179e"
             ],
             [
              0.4444444444444444,
              "#bd3786"
             ],
             [
              0.5555555555555556,
              "#d8576b"
             ],
             [
              0.6666666666666666,
              "#ed7953"
             ],
             [
              0.7777777777777778,
              "#fb9f3a"
             ],
             [
              0.8888888888888888,
              "#fdca26"
             ],
             [
              1.0,
              "#f0f921"
             ]
            ]
           }
          ],
          "contourcarpet": [
           {
            "type": "contourcarpet",
            "colorbar": {
             "outlinewidth": 0,
             "ticks": ""
            }
           }
          ],
          "contour": [
           {
            "type": "contour",
            "colorbar": {
             "outlinewidth": 0,
             "ticks": ""
            },
            "colorscale": [
             [
              0.0,
              "#0d0887"
             ],
             [
              0.1111111111111111,
              "#46039f"
             ],
             [
              0.2222222222222222,
              "#7201a8"
             ],
             [
              0.3333333333333333,
              "#9c179e"
             ],
             [
              0.4444444444444444,
              "#bd3786"
             ],
             [
              0.5555555555555556,
              "#d8576b"
             ],
             [
              0.6666666666666666,
              "#ed7953"
             ],
             [
              0.7777777777777778,
              "#fb9f3a"
             ],
             [
              0.8888888888888888,
              "#fdca26"
             ],
             [
              1.0,
              "#f0f921"
             ]
            ]
           }
          ],
          "surface": [
           {
            "type": "surface",
            "colorbar": {
             "outlinewidth": 0,
             "ticks": ""
            },
            "colorscale": [
             [
              0.0,
              "#0d0887"
             ],
             [
              0.1111111111111111,
              "#46039f"
             ],
             [
              0.2222222222222222,
              "#7201a8"
             ],
             [
              0.3333333333333333,
              "#9c179e"
             ],
             [
              0.4444444444444444,
              "#bd3786"
             ],
             [
              0.5555555555555556,
              "#d8576b"
             ],
             [
              0.6666666666666666,
              "#ed7953"
             ],
             [
              0.7777777777777778,
              "#fb9f3a"
             ],
             [
              0.8888888888888888,
              "#fdca26"
             ],
             [
              1.0,
              "#f0f921"
             ]
            ]
           }
          ],
          "mesh3d": [
           {
            "type": "mesh3d",
            "colorbar": {
             "outlinewidth": 0,
             "ticks": ""
            }
           }
          ],
          "scatter": [
           {
            "marker": {
             "line": {
              "color": "#283442"
             }
            },
            "type": "scatter"
           }
          ],
          "parcoords": [
           {
            "type": "parcoords",
            "line": {
             "colorbar": {
              "outlinewidth": 0,
              "ticks": ""
             }
            }
           }
          ],
          "scatterpolargl": [
           {
            "type": "scatterpolargl",
            "marker": {
             "colorbar": {
              "outlinewidth": 0,
              "ticks": ""
             }
            }
           }
          ],
          "bar": [
           {
            "error_x": {
             "color": "#f2f5fa"
            },
            "error_y": {
             "color": "#f2f5fa"
            },
            "marker": {
             "line": {
              "color": "rgb(17,17,17)",
              "width": 0.5
             },
             "pattern": {
              "fillmode": "overlay",
              "size": 10,
              "solidity": 0.2
             }
            },
            "type": "bar"
           }
          ],
          "scattergeo": [
           {
            "type": "scattergeo",
            "marker": {
             "colorbar": {
              "outlinewidth": 0,
              "ticks": ""
             }
            }
           }
          ],
          "scatterpolar": [
           {
            "type": "scatterpolar",
            "marker": {
             "colorbar": {
              "outlinewidth": 0,
              "ticks": ""
             }
            }
           }
          ],
          "histogram": [
           {
            "marker": {
             "pattern": {
              "fillmode": "overlay",
              "size": 10,
              "solidity": 0.2
             }
            },
            "type": "histogram"
           }
          ],
          "scattergl": [
           {
            "marker": {
             "line": {
              "color": "#283442"
             }
            },
            "type": "scattergl"
           }
          ],
          "scatter3d": [
           {
            "type": "scatter3d",
            "line": {
             "colorbar": {
              "outlinewidth": 0,
              "ticks": ""
             }
            },
            "marker": {
             "colorbar": {
              "outlinewidth": 0,
              "ticks": ""
             }
            }
           }
          ],
          "scattermapbox": [
           {
            "type": "scattermapbox",
            "marker": {
             "colorbar": {
              "outlinewidth": 0,
              "ticks": ""
             }
            }
           }
          ],
          "scatterternary": [
           {
            "type": "scatterternary",
            "marker": {
             "colorbar": {
              "outlinewidth": 0,
              "ticks": ""
             }
            }
           }
          ],
          "scattercarpet": [
           {
            "type": "scattercarpet",
            "marker": {
             "colorbar": {
              "outlinewidth": 0,
              "ticks": ""
             }
            }
           }
          ],
          "carpet": [
           {
            "aaxis": {
             "endlinecolor": "#A2B1C6",
             "gridcolor": "#506784",
             "linecolor": "#506784",
             "minorgridcolor": "#506784",
             "startlinecolor": "#A2B1C6"
            },
            "baxis": {
             "endlinecolor": "#A2B1C6",
             "gridcolor": "#506784",
             "linecolor": "#506784",
             "minorgridcolor": "#506784",
             "startlinecolor": "#A2B1C6"
            },
            "type": "carpet"
           }
          ],
          "table": [
           {
            "cells": {
             "fill": {
              "color": "#506784"
             },
             "line": {
              "color": "rgb(17,17,17)"
             }
            },
            "header": {
             "fill": {
              "color": "#2a3f5f"
             },
             "line": {
              "color": "rgb(17,17,17)"
             }
            },
            "type": "table"
           }
          ],
          "barpolar": [
           {
            "marker": {
             "line": {
              "color": "rgb(17,17,17)",
              "width": 0.5
             },
             "pattern": {
              "fillmode": "overlay",
              "size": 10,
              "solidity": 0.2
             }
            },
            "type": "barpolar"
           }
          ],
          "pie": [
           {
            "automargin": true,
            "type": "pie"
           }
          ]
         },
         "layout": {
          "autotypenumbers": "strict",
          "colorway": [
           "#636efa",
           "#EF553B",
           "#00cc96",
           "#ab63fa",
           "#FFA15A",
           "#19d3f3",
           "#FF6692",
           "#B6E880",
           "#FF97FF",
           "#FECB52"
          ],
          "font": {
           "color": "#f2f5fa"
          },
          "hovermode": "closest",
          "hoverlabel": {
           "align": "left"
          },
          "paper_bgcolor": "rgb(17,17,17)",
          "plot_bgcolor": "rgb(17,17,17)",
          "polar": {
           "bgcolor": "rgb(17,17,17)",
           "angularaxis": {
            "gridcolor": "#506784",
            "linecolor": "#506784",
            "ticks": ""
           },
           "radialaxis": {
            "gridcolor": "#506784",
            "linecolor": "#506784",
            "ticks": ""
           }
          },
          "ternary": {
           "bgcolor": "rgb(17,17,17)",
           "aaxis": {
            "gridcolor": "#506784",
            "linecolor": "#506784",
            "ticks": ""
           },
           "baxis": {
            "gridcolor": "#506784",
            "linecolor": "#506784",
            "ticks": ""
           },
           "caxis": {
            "gridcolor": "#506784",
            "linecolor": "#506784",
            "ticks": ""
           }
          },
          "coloraxis": {
           "colorbar": {
            "outlinewidth": 0,
            "ticks": ""
           }
          },
          "colorscale": {
           "sequential": [
            [
             0.0,
             "#0d0887"
            ],
            [
             0.1111111111111111,
             "#46039f"
            ],
            [
             0.2222222222222222,
             "#7201a8"
            ],
            [
             0.3333333333333333,
             "#9c179e"
            ],
            [
             0.4444444444444444,
             "#bd3786"
            ],
            [
             0.5555555555555556,
             "#d8576b"
            ],
            [
             0.6666666666666666,
             "#ed7953"
            ],
            [
             0.7777777777777778,
             "#fb9f3a"
            ],
            [
             0.8888888888888888,
             "#fdca26"
            ],
            [
             1.0,
             "#f0f921"
            ]
           ],
           "sequentialminus": [
            [
             0.0,
             "#0d0887"
            ],
            [
             0.1111111111111111,
             "#46039f"
            ],
            [
             0.2222222222222222,
             "#7201a8"
            ],
            [
             0.3333333333333333,
             "#9c179e"
            ],
            [
             0.4444444444444444,
             "#bd3786"
            ],
            [
             0.5555555555555556,
             "#d8576b"
            ],
            [
             0.6666666666666666,
             "#ed7953"
            ],
            [
             0.7777777777777778,
             "#fb9f3a"
            ],
            [
             0.8888888888888888,
             "#fdca26"
            ],
            [
             1.0,
             "#f0f921"
            ]
           ],
           "diverging": [
            [
             0,
             "#8e0152"
            ],
            [
             0.1,
             "#c51b7d"
            ],
            [
             0.2,
             "#de77ae"
            ],
            [
             0.3,
             "#f1b6da"
            ],
            [
             0.4,
             "#fde0ef"
            ],
            [
             0.5,
             "#f7f7f7"
            ],
            [
             0.6,
             "#e6f5d0"
            ],
            [
             0.7,
             "#b8e186"
            ],
            [
             0.8,
             "#7fbc41"
            ],
            [
             0.9,
             "#4d9221"
            ],
            [
             1,
             "#276419"
            ]
           ]
          },
          "xaxis": {
           "gridcolor": "#283442",
           "linecolor": "#506784",
           "ticks": "",
           "title": {
            "standoff": 15
           },
           "zerolinecolor": "#283442",
           "automargin": true,
           "zerolinewidth": 2
          },
          "yaxis": {
           "gridcolor": "#283442",
           "linecolor": "#506784",
           "ticks": "",
           "title": {
            "standoff": 15
           },
           "zerolinecolor": "#283442",
           "automargin": true,
           "zerolinewidth": 2
          },
          "scene": {
           "xaxis": {
            "backgroundcolor": "rgb(17,17,17)",
            "gridcolor": "#506784",
            "linecolor": "#506784",
            "showbackground": true,
            "ticks": "",
            "zerolinecolor": "#C8D4E3",
            "gridwidth": 2
           },
           "yaxis": {
            "backgroundcolor": "rgb(17,17,17)",
            "gridcolor": "#506784",
            "linecolor": "#506784",
            "showbackground": true,
            "ticks": "",
            "zerolinecolor": "#C8D4E3",
            "gridwidth": 2
           },
           "zaxis": {
            "backgroundcolor": "rgb(17,17,17)",
            "gridcolor": "#506784",
            "linecolor": "#506784",
            "showbackground": true,
            "ticks": "",
            "zerolinecolor": "#C8D4E3",
            "gridwidth": 2
           }
          },
          "shapedefaults": {
           "line": {
            "color": "#f2f5fa"
           }
          },
          "annotationdefaults": {
           "arrowcolor": "#f2f5fa",
           "arrowhead": 0,
           "arrowwidth": 1
          },
          "geo": {
           "bgcolor": "rgb(17,17,17)",
           "landcolor": "rgb(17,17,17)",
           "subunitcolor": "#506784",
           "showland": true,
           "showlakes": true,
           "lakecolor": "rgb(17,17,17)"
          },
          "title": {
           "x": 0.05
          },
          "updatemenudefaults": {
           "bgcolor": "#506784",
           "borderwidth": 0
          },
          "sliderdefaults": {
           "bgcolor": "#C8D4E3",
           "borderwidth": 1,
           "bordercolor": "rgb(17,17,17)",
           "tickwidth": 0
          },
          "mapbox": {
           "style": "dark"
          }
         }
        },
        "title": {
         "text": "The spread of data relative to the ideal 92%"
        },
        "xaxis": {
         "title": {
          "text": "Data point number"
         }
        },
        "yaxis": {
         "title": {
          "text": "Relative value from ideal (%)"
         }
        },
        "showlegend": true
       },
       "config": {
        "plotlyServerURL": "https://plot.ly"
       }
      },
      "text/html": "<div>                            <div id=\"a6d74669-4214-40a6-ad3d-751470d4a041\" class=\"plotly-graph-div\" style=\"height:525px; width:100%;\"></div>            <script type=\"text/javascript\">                require([\"plotly\"], function(Plotly) {                    window.PLOTLYENV=window.PLOTLYENV || {};                                    if (document.getElementById(\"a6d74669-4214-40a6-ad3d-751470d4a041\")) {                    Plotly.newPlot(                        \"a6d74669-4214-40a6-ad3d-751470d4a041\",                        [{\"mode\":\"lines\",\"name\":\"Intersection area is less than 92%\",\"x\":[0,1,2,3,4,5,6,7,8,9,10,11,12,13],\"y\":[2.679474216380175,0.8956606602359206,2.026027802425321,6.606247348250364,0.11750881316097622,3.248924988055427,1.4747012458682895,2.524544179523147,1.7925247902364498,3.763533253136277,2.0208205756276705,0.0878348704435686,5.559515324305068,3.558637347992659],\"type\":\"scatter\"}],                        {\"template\":{\"data\":{\"histogram2dcontour\":[{\"type\":\"histogram2dcontour\",\"colorbar\":{\"outlinewidth\":0,\"ticks\":\"\"},\"colorscale\":[[0.0,\"#0d0887\"],[0.1111111111111111,\"#46039f\"],[0.2222222222222222,\"#7201a8\"],[0.3333333333333333,\"#9c179e\"],[0.4444444444444444,\"#bd3786\"],[0.5555555555555556,\"#d8576b\"],[0.6666666666666666,\"#ed7953\"],[0.7777777777777778,\"#fb9f3a\"],[0.8888888888888888,\"#fdca26\"],[1.0,\"#f0f921\"]]}],\"choropleth\":[{\"type\":\"choropleth\",\"colorbar\":{\"outlinewidth\":0,\"ticks\":\"\"}}],\"histogram2d\":[{\"type\":\"histogram2d\",\"colorbar\":{\"outlinewidth\":0,\"ticks\":\"\"},\"colorscale\":[[0.0,\"#0d0887\"],[0.1111111111111111,\"#46039f\"],[0.2222222222222222,\"#7201a8\"],[0.3333333333333333,\"#9c179e\"],[0.4444444444444444,\"#bd3786\"],[0.5555555555555556,\"#d8576b\"],[0.6666666666666666,\"#ed7953\"],[0.7777777777777778,\"#fb9f3a\"],[0.8888888888888888,\"#fdca26\"],[1.0,\"#f0f921\"]]}],\"heatmap\":[{\"type\":\"heatmap\",\"colorbar\":{\"outlinewidth\":0,\"ticks\":\"\"},\"colorscale\":[[0.0,\"#0d0887\"],[0.1111111111111111,\"#46039f\"],[0.2222222222222222,\"#7201a8\"],[0.3333333333333333,\"#9c179e\"],[0.4444444444444444,\"#bd3786\"],[0.5555555555555556,\"#d8576b\"],[0.6666666666666666,\"#ed7953\"],[0.7777777777777778,\"#fb9f3a\"],[0.8888888888888888,\"#fdca26\"],[1.0,\"#f0f921\"]]}],\"heatmapgl\":[{\"type\":\"heatmapgl\",\"colorbar\":{\"outlinewidth\":0,\"ticks\":\"\"},\"colorscale\":[[0.0,\"#0d0887\"],[0.1111111111111111,\"#46039f\"],[0.2222222222222222,\"#7201a8\"],[0.3333333333333333,\"#9c179e\"],[0.4444444444444444,\"#bd3786\"],[0.5555555555555556,\"#d8576b\"],[0.6666666666666666,\"#ed7953\"],[0.7777777777777778,\"#fb9f3a\"],[0.8888888888888888,\"#fdca26\"],[1.0,\"#f0f921\"]]}],\"contourcarpet\":[{\"type\":\"contourcarpet\",\"colorbar\":{\"outlinewidth\":0,\"ticks\":\"\"}}],\"contour\":[{\"type\":\"contour\",\"colorbar\":{\"outlinewidth\":0,\"ticks\":\"\"},\"colorscale\":[[0.0,\"#0d0887\"],[0.1111111111111111,\"#46039f\"],[0.2222222222222222,\"#7201a8\"],[0.3333333333333333,\"#9c179e\"],[0.4444444444444444,\"#bd3786\"],[0.5555555555555556,\"#d8576b\"],[0.6666666666666666,\"#ed7953\"],[0.7777777777777778,\"#fb9f3a\"],[0.8888888888888888,\"#fdca26\"],[1.0,\"#f0f921\"]]}],\"surface\":[{\"type\":\"surface\",\"colorbar\":{\"outlinewidth\":0,\"ticks\":\"\"},\"colorscale\":[[0.0,\"#0d0887\"],[0.1111111111111111,\"#46039f\"],[0.2222222222222222,\"#7201a8\"],[0.3333333333333333,\"#9c179e\"],[0.4444444444444444,\"#bd3786\"],[0.5555555555555556,\"#d8576b\"],[0.6666666666666666,\"#ed7953\"],[0.7777777777777778,\"#fb9f3a\"],[0.8888888888888888,\"#fdca26\"],[1.0,\"#f0f921\"]]}],\"mesh3d\":[{\"type\":\"mesh3d\",\"colorbar\":{\"outlinewidth\":0,\"ticks\":\"\"}}],\"scatter\":[{\"marker\":{\"line\":{\"color\":\"#283442\"}},\"type\":\"scatter\"}],\"parcoords\":[{\"type\":\"parcoords\",\"line\":{\"colorbar\":{\"outlinewidth\":0,\"ticks\":\"\"}}}],\"scatterpolargl\":[{\"type\":\"scatterpolargl\",\"marker\":{\"colorbar\":{\"outlinewidth\":0,\"ticks\":\"\"}}}],\"bar\":[{\"error_x\":{\"color\":\"#f2f5fa\"},\"error_y\":{\"color\":\"#f2f5fa\"},\"marker\":{\"line\":{\"color\":\"rgb(17,17,17)\",\"width\":0.5},\"pattern\":{\"fillmode\":\"overlay\",\"size\":10,\"solidity\":0.2}},\"type\":\"bar\"}],\"scattergeo\":[{\"type\":\"scattergeo\",\"marker\":{\"colorbar\":{\"outlinewidth\":0,\"ticks\":\"\"}}}],\"scatterpolar\":[{\"type\":\"scatterpolar\",\"marker\":{\"colorbar\":{\"outlinewidth\":0,\"ticks\":\"\"}}}],\"histogram\":[{\"marker\":{\"pattern\":{\"fillmode\":\"overlay\",\"size\":10,\"solidity\":0.2}},\"type\":\"histogram\"}],\"scattergl\":[{\"marker\":{\"line\":{\"color\":\"#283442\"}},\"type\":\"scattergl\"}],\"scatter3d\":[{\"type\":\"scatter3d\",\"line\":{\"colorbar\":{\"outlinewidth\":0,\"ticks\":\"\"}},\"marker\":{\"colorbar\":{\"outlinewidth\":0,\"ticks\":\"\"}}}],\"scattermapbox\":[{\"type\":\"scattermapbox\",\"marker\":{\"colorbar\":{\"outlinewidth\":0,\"ticks\":\"\"}}}],\"scatterternary\":[{\"type\":\"scatterternary\",\"marker\":{\"colorbar\":{\"outlinewidth\":0,\"ticks\":\"\"}}}],\"scattercarpet\":[{\"type\":\"scattercarpet\",\"marker\":{\"colorbar\":{\"outlinewidth\":0,\"ticks\":\"\"}}}],\"carpet\":[{\"aaxis\":{\"endlinecolor\":\"#A2B1C6\",\"gridcolor\":\"#506784\",\"linecolor\":\"#506784\",\"minorgridcolor\":\"#506784\",\"startlinecolor\":\"#A2B1C6\"},\"baxis\":{\"endlinecolor\":\"#A2B1C6\",\"gridcolor\":\"#506784\",\"linecolor\":\"#506784\",\"minorgridcolor\":\"#506784\",\"startlinecolor\":\"#A2B1C6\"},\"type\":\"carpet\"}],\"table\":[{\"cells\":{\"fill\":{\"color\":\"#506784\"},\"line\":{\"color\":\"rgb(17,17,17)\"}},\"header\":{\"fill\":{\"color\":\"#2a3f5f\"},\"line\":{\"color\":\"rgb(17,17,17)\"}},\"type\":\"table\"}],\"barpolar\":[{\"marker\":{\"line\":{\"color\":\"rgb(17,17,17)\",\"width\":0.5},\"pattern\":{\"fillmode\":\"overlay\",\"size\":10,\"solidity\":0.2}},\"type\":\"barpolar\"}],\"pie\":[{\"automargin\":true,\"type\":\"pie\"}]},\"layout\":{\"autotypenumbers\":\"strict\",\"colorway\":[\"#636efa\",\"#EF553B\",\"#00cc96\",\"#ab63fa\",\"#FFA15A\",\"#19d3f3\",\"#FF6692\",\"#B6E880\",\"#FF97FF\",\"#FECB52\"],\"font\":{\"color\":\"#f2f5fa\"},\"hovermode\":\"closest\",\"hoverlabel\":{\"align\":\"left\"},\"paper_bgcolor\":\"rgb(17,17,17)\",\"plot_bgcolor\":\"rgb(17,17,17)\",\"polar\":{\"bgcolor\":\"rgb(17,17,17)\",\"angularaxis\":{\"gridcolor\":\"#506784\",\"linecolor\":\"#506784\",\"ticks\":\"\"},\"radialaxis\":{\"gridcolor\":\"#506784\",\"linecolor\":\"#506784\",\"ticks\":\"\"}},\"ternary\":{\"bgcolor\":\"rgb(17,17,17)\",\"aaxis\":{\"gridcolor\":\"#506784\",\"linecolor\":\"#506784\",\"ticks\":\"\"},\"baxis\":{\"gridcolor\":\"#506784\",\"linecolor\":\"#506784\",\"ticks\":\"\"},\"caxis\":{\"gridcolor\":\"#506784\",\"linecolor\":\"#506784\",\"ticks\":\"\"}},\"coloraxis\":{\"colorbar\":{\"outlinewidth\":0,\"ticks\":\"\"}},\"colorscale\":{\"sequential\":[[0.0,\"#0d0887\"],[0.1111111111111111,\"#46039f\"],[0.2222222222222222,\"#7201a8\"],[0.3333333333333333,\"#9c179e\"],[0.4444444444444444,\"#bd3786\"],[0.5555555555555556,\"#d8576b\"],[0.6666666666666666,\"#ed7953\"],[0.7777777777777778,\"#fb9f3a\"],[0.8888888888888888,\"#fdca26\"],[1.0,\"#f0f921\"]],\"sequentialminus\":[[0.0,\"#0d0887\"],[0.1111111111111111,\"#46039f\"],[0.2222222222222222,\"#7201a8\"],[0.3333333333333333,\"#9c179e\"],[0.4444444444444444,\"#bd3786\"],[0.5555555555555556,\"#d8576b\"],[0.6666666666666666,\"#ed7953\"],[0.7777777777777778,\"#fb9f3a\"],[0.8888888888888888,\"#fdca26\"],[1.0,\"#f0f921\"]],\"diverging\":[[0,\"#8e0152\"],[0.1,\"#c51b7d\"],[0.2,\"#de77ae\"],[0.3,\"#f1b6da\"],[0.4,\"#fde0ef\"],[0.5,\"#f7f7f7\"],[0.6,\"#e6f5d0\"],[0.7,\"#b8e186\"],[0.8,\"#7fbc41\"],[0.9,\"#4d9221\"],[1,\"#276419\"]]},\"xaxis\":{\"gridcolor\":\"#283442\",\"linecolor\":\"#506784\",\"ticks\":\"\",\"title\":{\"standoff\":15},\"zerolinecolor\":\"#283442\",\"automargin\":true,\"zerolinewidth\":2},\"yaxis\":{\"gridcolor\":\"#283442\",\"linecolor\":\"#506784\",\"ticks\":\"\",\"title\":{\"standoff\":15},\"zerolinecolor\":\"#283442\",\"automargin\":true,\"zerolinewidth\":2},\"scene\":{\"xaxis\":{\"backgroundcolor\":\"rgb(17,17,17)\",\"gridcolor\":\"#506784\",\"linecolor\":\"#506784\",\"showbackground\":true,\"ticks\":\"\",\"zerolinecolor\":\"#C8D4E3\",\"gridwidth\":2},\"yaxis\":{\"backgroundcolor\":\"rgb(17,17,17)\",\"gridcolor\":\"#506784\",\"linecolor\":\"#506784\",\"showbackground\":true,\"ticks\":\"\",\"zerolinecolor\":\"#C8D4E3\",\"gridwidth\":2},\"zaxis\":{\"backgroundcolor\":\"rgb(17,17,17)\",\"gridcolor\":\"#506784\",\"linecolor\":\"#506784\",\"showbackground\":true,\"ticks\":\"\",\"zerolinecolor\":\"#C8D4E3\",\"gridwidth\":2}},\"shapedefaults\":{\"line\":{\"color\":\"#f2f5fa\"}},\"annotationdefaults\":{\"arrowcolor\":\"#f2f5fa\",\"arrowhead\":0,\"arrowwidth\":1},\"geo\":{\"bgcolor\":\"rgb(17,17,17)\",\"landcolor\":\"rgb(17,17,17)\",\"subunitcolor\":\"#506784\",\"showland\":true,\"showlakes\":true,\"lakecolor\":\"rgb(17,17,17)\"},\"title\":{\"x\":0.05},\"updatemenudefaults\":{\"bgcolor\":\"#506784\",\"borderwidth\":0},\"sliderdefaults\":{\"bgcolor\":\"#C8D4E3\",\"borderwidth\":1,\"bordercolor\":\"rgb(17,17,17)\",\"tickwidth\":0},\"mapbox\":{\"style\":\"dark\"}}},\"title\":{\"text\":\"The spread of data relative to the ideal 92%\"},\"xaxis\":{\"title\":{\"text\":\"Data point number\"}},\"yaxis\":{\"title\":{\"text\":\"Relative value from ideal (%)\"}},\"showlegend\":true},                        {\"responsive\": true}                    ).then(function(){\n                            \nvar gd = document.getElementById('a6d74669-4214-40a6-ad3d-751470d4a041');\nvar x = new MutationObserver(function (mutations, observer) {{\n        var display = window.getComputedStyle(gd).display;\n        if (!display || display === 'none') {{\n            console.log([gd, 'removed!']);\n            Plotly.purge(gd);\n            observer.disconnect();\n        }}\n}});\n\n// Listen for the removal of the full notebook cells\nvar notebookContainer = gd.closest('#notebook-container');\nif (notebookContainer) {{\n    x.observe(notebookContainer, {childList: true});\n}}\n\n// Listen for the clearing of the current output cell\nvar outputEl = gd.closest('.output');\nif (outputEl) {{\n    x.observe(outputEl, {childList: true});\n}}\n\n                        })                };                });            </script>        </div>"
     },
     "metadata": {},
     "output_type": "display_data"
    },
    {
     "data": {
      "application/vnd.plotly.v1+json": {
       "data": [
        {
         "mode": "lines",
         "name": "Area difference is more than 22%",
         "x": [
          0,
          1,
          2,
          3,
          4,
          5,
          6,
          7,
          8,
          9,
          10,
          11,
          12,
          13,
          14,
          15,
          16,
          17,
          18,
          19,
          20,
          21,
          22,
          23,
          24,
          25,
          26,
          27,
          28,
          29,
          30,
          31,
          32,
          33,
          34,
          35,
          36,
          37,
          38,
          39,
          40,
          41,
          42,
          43,
          44,
          45
         ],
         "y": [
          28.763452116745533,
          12.461948964636026,
          13.41991341991342,
          55.76420843178709,
          78.02299052299053,
          80.22017045454545,
          60.95606521138434,
          51.768556646605425,
          26.659364731653895,
          15.72417084228109,
          4.399146952338433,
          31.5426997245179,
          81.05990395147022,
          34.01492124896381,
          49.68089296022355,
          252.6811454929848,
          21.605002738803414,
          51.77359953479358,
          12.438375489737554,
          67.33266733266736,
          38.287638287638295,
          50.03515003515004,
          34.045555331586385,
          53.11393152302244,
          43.81350158476258,
          23.078290233715443,
          118.85521885521884,
          13.863636363636367,
          62.2052674684254,
          65.9090909090909,
          44.445718216210025,
          1.0136024800637728,
          46.879104042025396,
          15.19111886683869,
          227.59648973332196,
          6.252024619371548,
          198.48009453567502,
          33.48138348138348,
          34.71756246322721,
          41.5315950199671,
          8.867463897049694,
          0.19246009283368049,
          38.709027597916496,
          21.87320069093467,
          51.515151515151494,
          2.5086393367747046
         ],
         "type": "scatter"
        }
       ],
       "layout": {
        "template": {
         "data": {
          "histogram2dcontour": [
           {
            "type": "histogram2dcontour",
            "colorbar": {
             "outlinewidth": 0,
             "ticks": ""
            },
            "colorscale": [
             [
              0.0,
              "#0d0887"
             ],
             [
              0.1111111111111111,
              "#46039f"
             ],
             [
              0.2222222222222222,
              "#7201a8"
             ],
             [
              0.3333333333333333,
              "#9c179e"
             ],
             [
              0.4444444444444444,
              "#bd3786"
             ],
             [
              0.5555555555555556,
              "#d8576b"
             ],
             [
              0.6666666666666666,
              "#ed7953"
             ],
             [
              0.7777777777777778,
              "#fb9f3a"
             ],
             [
              0.8888888888888888,
              "#fdca26"
             ],
             [
              1.0,
              "#f0f921"
             ]
            ]
           }
          ],
          "choropleth": [
           {
            "type": "choropleth",
            "colorbar": {
             "outlinewidth": 0,
             "ticks": ""
            }
           }
          ],
          "histogram2d": [
           {
            "type": "histogram2d",
            "colorbar": {
             "outlinewidth": 0,
             "ticks": ""
            },
            "colorscale": [
             [
              0.0,
              "#0d0887"
             ],
             [
              0.1111111111111111,
              "#46039f"
             ],
             [
              0.2222222222222222,
              "#7201a8"
             ],
             [
              0.3333333333333333,
              "#9c179e"
             ],
             [
              0.4444444444444444,
              "#bd3786"
             ],
             [
              0.5555555555555556,
              "#d8576b"
             ],
             [
              0.6666666666666666,
              "#ed7953"
             ],
             [
              0.7777777777777778,
              "#fb9f3a"
             ],
             [
              0.8888888888888888,
              "#fdca26"
             ],
             [
              1.0,
              "#f0f921"
             ]
            ]
           }
          ],
          "heatmap": [
           {
            "type": "heatmap",
            "colorbar": {
             "outlinewidth": 0,
             "ticks": ""
            },
            "colorscale": [
             [
              0.0,
              "#0d0887"
             ],
             [
              0.1111111111111111,
              "#46039f"
             ],
             [
              0.2222222222222222,
              "#7201a8"
             ],
             [
              0.3333333333333333,
              "#9c179e"
             ],
             [
              0.4444444444444444,
              "#bd3786"
             ],
             [
              0.5555555555555556,
              "#d8576b"
             ],
             [
              0.6666666666666666,
              "#ed7953"
             ],
             [
              0.7777777777777778,
              "#fb9f3a"
             ],
             [
              0.8888888888888888,
              "#fdca26"
             ],
             [
              1.0,
              "#f0f921"
             ]
            ]
           }
          ],
          "heatmapgl": [
           {
            "type": "heatmapgl",
            "colorbar": {
             "outlinewidth": 0,
             "ticks": ""
            },
            "colorscale": [
             [
              0.0,
              "#0d0887"
             ],
             [
              0.1111111111111111,
              "#46039f"
             ],
             [
              0.2222222222222222,
              "#7201a8"
             ],
             [
              0.3333333333333333,
              "#9c179e"
             ],
             [
              0.4444444444444444,
              "#bd3786"
             ],
             [
              0.5555555555555556,
              "#d8576b"
             ],
             [
              0.6666666666666666,
              "#ed7953"
             ],
             [
              0.7777777777777778,
              "#fb9f3a"
             ],
             [
              0.8888888888888888,
              "#fdca26"
             ],
             [
              1.0,
              "#f0f921"
             ]
            ]
           }
          ],
          "contourcarpet": [
           {
            "type": "contourcarpet",
            "colorbar": {
             "outlinewidth": 0,
             "ticks": ""
            }
           }
          ],
          "contour": [
           {
            "type": "contour",
            "colorbar": {
             "outlinewidth": 0,
             "ticks": ""
            },
            "colorscale": [
             [
              0.0,
              "#0d0887"
             ],
             [
              0.1111111111111111,
              "#46039f"
             ],
             [
              0.2222222222222222,
              "#7201a8"
             ],
             [
              0.3333333333333333,
              "#9c179e"
             ],
             [
              0.4444444444444444,
              "#bd3786"
             ],
             [
              0.5555555555555556,
              "#d8576b"
             ],
             [
              0.6666666666666666,
              "#ed7953"
             ],
             [
              0.7777777777777778,
              "#fb9f3a"
             ],
             [
              0.8888888888888888,
              "#fdca26"
             ],
             [
              1.0,
              "#f0f921"
             ]
            ]
           }
          ],
          "surface": [
           {
            "type": "surface",
            "colorbar": {
             "outlinewidth": 0,
             "ticks": ""
            },
            "colorscale": [
             [
              0.0,
              "#0d0887"
             ],
             [
              0.1111111111111111,
              "#46039f"
             ],
             [
              0.2222222222222222,
              "#7201a8"
             ],
             [
              0.3333333333333333,
              "#9c179e"
             ],
             [
              0.4444444444444444,
              "#bd3786"
             ],
             [
              0.5555555555555556,
              "#d8576b"
             ],
             [
              0.6666666666666666,
              "#ed7953"
             ],
             [
              0.7777777777777778,
              "#fb9f3a"
             ],
             [
              0.8888888888888888,
              "#fdca26"
             ],
             [
              1.0,
              "#f0f921"
             ]
            ]
           }
          ],
          "mesh3d": [
           {
            "type": "mesh3d",
            "colorbar": {
             "outlinewidth": 0,
             "ticks": ""
            }
           }
          ],
          "scatter": [
           {
            "marker": {
             "line": {
              "color": "#283442"
             }
            },
            "type": "scatter"
           }
          ],
          "parcoords": [
           {
            "type": "parcoords",
            "line": {
             "colorbar": {
              "outlinewidth": 0,
              "ticks": ""
             }
            }
           }
          ],
          "scatterpolargl": [
           {
            "type": "scatterpolargl",
            "marker": {
             "colorbar": {
              "outlinewidth": 0,
              "ticks": ""
             }
            }
           }
          ],
          "bar": [
           {
            "error_x": {
             "color": "#f2f5fa"
            },
            "error_y": {
             "color": "#f2f5fa"
            },
            "marker": {
             "line": {
              "color": "rgb(17,17,17)",
              "width": 0.5
             },
             "pattern": {
              "fillmode": "overlay",
              "size": 10,
              "solidity": 0.2
             }
            },
            "type": "bar"
           }
          ],
          "scattergeo": [
           {
            "type": "scattergeo",
            "marker": {
             "colorbar": {
              "outlinewidth": 0,
              "ticks": ""
             }
            }
           }
          ],
          "scatterpolar": [
           {
            "type": "scatterpolar",
            "marker": {
             "colorbar": {
              "outlinewidth": 0,
              "ticks": ""
             }
            }
           }
          ],
          "histogram": [
           {
            "marker": {
             "pattern": {
              "fillmode": "overlay",
              "size": 10,
              "solidity": 0.2
             }
            },
            "type": "histogram"
           }
          ],
          "scattergl": [
           {
            "marker": {
             "line": {
              "color": "#283442"
             }
            },
            "type": "scattergl"
           }
          ],
          "scatter3d": [
           {
            "type": "scatter3d",
            "line": {
             "colorbar": {
              "outlinewidth": 0,
              "ticks": ""
             }
            },
            "marker": {
             "colorbar": {
              "outlinewidth": 0,
              "ticks": ""
             }
            }
           }
          ],
          "scattermapbox": [
           {
            "type": "scattermapbox",
            "marker": {
             "colorbar": {
              "outlinewidth": 0,
              "ticks": ""
             }
            }
           }
          ],
          "scatterternary": [
           {
            "type": "scatterternary",
            "marker": {
             "colorbar": {
              "outlinewidth": 0,
              "ticks": ""
             }
            }
           }
          ],
          "scattercarpet": [
           {
            "type": "scattercarpet",
            "marker": {
             "colorbar": {
              "outlinewidth": 0,
              "ticks": ""
             }
            }
           }
          ],
          "carpet": [
           {
            "aaxis": {
             "endlinecolor": "#A2B1C6",
             "gridcolor": "#506784",
             "linecolor": "#506784",
             "minorgridcolor": "#506784",
             "startlinecolor": "#A2B1C6"
            },
            "baxis": {
             "endlinecolor": "#A2B1C6",
             "gridcolor": "#506784",
             "linecolor": "#506784",
             "minorgridcolor": "#506784",
             "startlinecolor": "#A2B1C6"
            },
            "type": "carpet"
           }
          ],
          "table": [
           {
            "cells": {
             "fill": {
              "color": "#506784"
             },
             "line": {
              "color": "rgb(17,17,17)"
             }
            },
            "header": {
             "fill": {
              "color": "#2a3f5f"
             },
             "line": {
              "color": "rgb(17,17,17)"
             }
            },
            "type": "table"
           }
          ],
          "barpolar": [
           {
            "marker": {
             "line": {
              "color": "rgb(17,17,17)",
              "width": 0.5
             },
             "pattern": {
              "fillmode": "overlay",
              "size": 10,
              "solidity": 0.2
             }
            },
            "type": "barpolar"
           }
          ],
          "pie": [
           {
            "automargin": true,
            "type": "pie"
           }
          ]
         },
         "layout": {
          "autotypenumbers": "strict",
          "colorway": [
           "#636efa",
           "#EF553B",
           "#00cc96",
           "#ab63fa",
           "#FFA15A",
           "#19d3f3",
           "#FF6692",
           "#B6E880",
           "#FF97FF",
           "#FECB52"
          ],
          "font": {
           "color": "#f2f5fa"
          },
          "hovermode": "closest",
          "hoverlabel": {
           "align": "left"
          },
          "paper_bgcolor": "rgb(17,17,17)",
          "plot_bgcolor": "rgb(17,17,17)",
          "polar": {
           "bgcolor": "rgb(17,17,17)",
           "angularaxis": {
            "gridcolor": "#506784",
            "linecolor": "#506784",
            "ticks": ""
           },
           "radialaxis": {
            "gridcolor": "#506784",
            "linecolor": "#506784",
            "ticks": ""
           }
          },
          "ternary": {
           "bgcolor": "rgb(17,17,17)",
           "aaxis": {
            "gridcolor": "#506784",
            "linecolor": "#506784",
            "ticks": ""
           },
           "baxis": {
            "gridcolor": "#506784",
            "linecolor": "#506784",
            "ticks": ""
           },
           "caxis": {
            "gridcolor": "#506784",
            "linecolor": "#506784",
            "ticks": ""
           }
          },
          "coloraxis": {
           "colorbar": {
            "outlinewidth": 0,
            "ticks": ""
           }
          },
          "colorscale": {
           "sequential": [
            [
             0.0,
             "#0d0887"
            ],
            [
             0.1111111111111111,
             "#46039f"
            ],
            [
             0.2222222222222222,
             "#7201a8"
            ],
            [
             0.3333333333333333,
             "#9c179e"
            ],
            [
             0.4444444444444444,
             "#bd3786"
            ],
            [
             0.5555555555555556,
             "#d8576b"
            ],
            [
             0.6666666666666666,
             "#ed7953"
            ],
            [
             0.7777777777777778,
             "#fb9f3a"
            ],
            [
             0.8888888888888888,
             "#fdca26"
            ],
            [
             1.0,
             "#f0f921"
            ]
           ],
           "sequentialminus": [
            [
             0.0,
             "#0d0887"
            ],
            [
             0.1111111111111111,
             "#46039f"
            ],
            [
             0.2222222222222222,
             "#7201a8"
            ],
            [
             0.3333333333333333,
             "#9c179e"
            ],
            [
             0.4444444444444444,
             "#bd3786"
            ],
            [
             0.5555555555555556,
             "#d8576b"
            ],
            [
             0.6666666666666666,
             "#ed7953"
            ],
            [
             0.7777777777777778,
             "#fb9f3a"
            ],
            [
             0.8888888888888888,
             "#fdca26"
            ],
            [
             1.0,
             "#f0f921"
            ]
           ],
           "diverging": [
            [
             0,
             "#8e0152"
            ],
            [
             0.1,
             "#c51b7d"
            ],
            [
             0.2,
             "#de77ae"
            ],
            [
             0.3,
             "#f1b6da"
            ],
            [
             0.4,
             "#fde0ef"
            ],
            [
             0.5,
             "#f7f7f7"
            ],
            [
             0.6,
             "#e6f5d0"
            ],
            [
             0.7,
             "#b8e186"
            ],
            [
             0.8,
             "#7fbc41"
            ],
            [
             0.9,
             "#4d9221"
            ],
            [
             1,
             "#276419"
            ]
           ]
          },
          "xaxis": {
           "gridcolor": "#283442",
           "linecolor": "#506784",
           "ticks": "",
           "title": {
            "standoff": 15
           },
           "zerolinecolor": "#283442",
           "automargin": true,
           "zerolinewidth": 2
          },
          "yaxis": {
           "gridcolor": "#283442",
           "linecolor": "#506784",
           "ticks": "",
           "title": {
            "standoff": 15
           },
           "zerolinecolor": "#283442",
           "automargin": true,
           "zerolinewidth": 2
          },
          "scene": {
           "xaxis": {
            "backgroundcolor": "rgb(17,17,17)",
            "gridcolor": "#506784",
            "linecolor": "#506784",
            "showbackground": true,
            "ticks": "",
            "zerolinecolor": "#C8D4E3",
            "gridwidth": 2
           },
           "yaxis": {
            "backgroundcolor": "rgb(17,17,17)",
            "gridcolor": "#506784",
            "linecolor": "#506784",
            "showbackground": true,
            "ticks": "",
            "zerolinecolor": "#C8D4E3",
            "gridwidth": 2
           },
           "zaxis": {
            "backgroundcolor": "rgb(17,17,17)",
            "gridcolor": "#506784",
            "linecolor": "#506784",
            "showbackground": true,
            "ticks": "",
            "zerolinecolor": "#C8D4E3",
            "gridwidth": 2
           }
          },
          "shapedefaults": {
           "line": {
            "color": "#f2f5fa"
           }
          },
          "annotationdefaults": {
           "arrowcolor": "#f2f5fa",
           "arrowhead": 0,
           "arrowwidth": 1
          },
          "geo": {
           "bgcolor": "rgb(17,17,17)",
           "landcolor": "rgb(17,17,17)",
           "subunitcolor": "#506784",
           "showland": true,
           "showlakes": true,
           "lakecolor": "rgb(17,17,17)"
          },
          "title": {
           "x": 0.05
          },
          "updatemenudefaults": {
           "bgcolor": "#506784",
           "borderwidth": 0
          },
          "sliderdefaults": {
           "bgcolor": "#C8D4E3",
           "borderwidth": 1,
           "bordercolor": "rgb(17,17,17)",
           "tickwidth": 0
          },
          "mapbox": {
           "style": "dark"
          }
         }
        },
        "title": {
         "text": "The spread of data relative to the ideal 22%"
        },
        "xaxis": {
         "title": {
          "text": "Data point number"
         }
        },
        "yaxis": {
         "title": {
          "text": "Relative value from ideal (%)"
         }
        },
        "showlegend": true
       },
       "config": {
        "plotlyServerURL": "https://plot.ly"
       }
      },
      "text/html": "<div>                            <div id=\"450a8c66-e5d4-4e12-a209-2429e3f9fbed\" class=\"plotly-graph-div\" style=\"height:525px; width:100%;\"></div>            <script type=\"text/javascript\">                require([\"plotly\"], function(Plotly) {                    window.PLOTLYENV=window.PLOTLYENV || {};                                    if (document.getElementById(\"450a8c66-e5d4-4e12-a209-2429e3f9fbed\")) {                    Plotly.newPlot(                        \"450a8c66-e5d4-4e12-a209-2429e3f9fbed\",                        [{\"mode\":\"lines\",\"name\":\"Area difference is more than 22%\",\"x\":[0,1,2,3,4,5,6,7,8,9,10,11,12,13,14,15,16,17,18,19,20,21,22,23,24,25,26,27,28,29,30,31,32,33,34,35,36,37,38,39,40,41,42,43,44,45],\"y\":[28.763452116745533,12.461948964636026,13.41991341991342,55.76420843178709,78.02299052299053,80.22017045454545,60.95606521138434,51.768556646605425,26.659364731653895,15.72417084228109,4.399146952338433,31.5426997245179,81.05990395147022,34.01492124896381,49.68089296022355,252.6811454929848,21.605002738803414,51.77359953479358,12.438375489737554,67.33266733266736,38.287638287638295,50.03515003515004,34.045555331586385,53.11393152302244,43.81350158476258,23.078290233715443,118.85521885521884,13.863636363636367,62.2052674684254,65.9090909090909,44.445718216210025,1.0136024800637728,46.879104042025396,15.19111886683869,227.59648973332196,6.252024619371548,198.48009453567502,33.48138348138348,34.71756246322721,41.5315950199671,8.867463897049694,0.19246009283368049,38.709027597916496,21.87320069093467,51.515151515151494,2.5086393367747046],\"type\":\"scatter\"}],                        {\"template\":{\"data\":{\"histogram2dcontour\":[{\"type\":\"histogram2dcontour\",\"colorbar\":{\"outlinewidth\":0,\"ticks\":\"\"},\"colorscale\":[[0.0,\"#0d0887\"],[0.1111111111111111,\"#46039f\"],[0.2222222222222222,\"#7201a8\"],[0.3333333333333333,\"#9c179e\"],[0.4444444444444444,\"#bd3786\"],[0.5555555555555556,\"#d8576b\"],[0.6666666666666666,\"#ed7953\"],[0.7777777777777778,\"#fb9f3a\"],[0.8888888888888888,\"#fdca26\"],[1.0,\"#f0f921\"]]}],\"choropleth\":[{\"type\":\"choropleth\",\"colorbar\":{\"outlinewidth\":0,\"ticks\":\"\"}}],\"histogram2d\":[{\"type\":\"histogram2d\",\"colorbar\":{\"outlinewidth\":0,\"ticks\":\"\"},\"colorscale\":[[0.0,\"#0d0887\"],[0.1111111111111111,\"#46039f\"],[0.2222222222222222,\"#7201a8\"],[0.3333333333333333,\"#9c179e\"],[0.4444444444444444,\"#bd3786\"],[0.5555555555555556,\"#d8576b\"],[0.6666666666666666,\"#ed7953\"],[0.7777777777777778,\"#fb9f3a\"],[0.8888888888888888,\"#fdca26\"],[1.0,\"#f0f921\"]]}],\"heatmap\":[{\"type\":\"heatmap\",\"colorbar\":{\"outlinewidth\":0,\"ticks\":\"\"},\"colorscale\":[[0.0,\"#0d0887\"],[0.1111111111111111,\"#46039f\"],[0.2222222222222222,\"#7201a8\"],[0.3333333333333333,\"#9c179e\"],[0.4444444444444444,\"#bd3786\"],[0.5555555555555556,\"#d8576b\"],[0.6666666666666666,\"#ed7953\"],[0.7777777777777778,\"#fb9f3a\"],[0.8888888888888888,\"#fdca26\"],[1.0,\"#f0f921\"]]}],\"heatmapgl\":[{\"type\":\"heatmapgl\",\"colorbar\":{\"outlinewidth\":0,\"ticks\":\"\"},\"colorscale\":[[0.0,\"#0d0887\"],[0.1111111111111111,\"#46039f\"],[0.2222222222222222,\"#7201a8\"],[0.3333333333333333,\"#9c179e\"],[0.4444444444444444,\"#bd3786\"],[0.5555555555555556,\"#d8576b\"],[0.6666666666666666,\"#ed7953\"],[0.7777777777777778,\"#fb9f3a\"],[0.8888888888888888,\"#fdca26\"],[1.0,\"#f0f921\"]]}],\"contourcarpet\":[{\"type\":\"contourcarpet\",\"colorbar\":{\"outlinewidth\":0,\"ticks\":\"\"}}],\"contour\":[{\"type\":\"contour\",\"colorbar\":{\"outlinewidth\":0,\"ticks\":\"\"},\"colorscale\":[[0.0,\"#0d0887\"],[0.1111111111111111,\"#46039f\"],[0.2222222222222222,\"#7201a8\"],[0.3333333333333333,\"#9c179e\"],[0.4444444444444444,\"#bd3786\"],[0.5555555555555556,\"#d8576b\"],[0.6666666666666666,\"#ed7953\"],[0.7777777777777778,\"#fb9f3a\"],[0.8888888888888888,\"#fdca26\"],[1.0,\"#f0f921\"]]}],\"surface\":[{\"type\":\"surface\",\"colorbar\":{\"outlinewidth\":0,\"ticks\":\"\"},\"colorscale\":[[0.0,\"#0d0887\"],[0.1111111111111111,\"#46039f\"],[0.2222222222222222,\"#7201a8\"],[0.3333333333333333,\"#9c179e\"],[0.4444444444444444,\"#bd3786\"],[0.5555555555555556,\"#d8576b\"],[0.6666666666666666,\"#ed7953\"],[0.7777777777777778,\"#fb9f3a\"],[0.8888888888888888,\"#fdca26\"],[1.0,\"#f0f921\"]]}],\"mesh3d\":[{\"type\":\"mesh3d\",\"colorbar\":{\"outlinewidth\":0,\"ticks\":\"\"}}],\"scatter\":[{\"marker\":{\"line\":{\"color\":\"#283442\"}},\"type\":\"scatter\"}],\"parcoords\":[{\"type\":\"parcoords\",\"line\":{\"colorbar\":{\"outlinewidth\":0,\"ticks\":\"\"}}}],\"scatterpolargl\":[{\"type\":\"scatterpolargl\",\"marker\":{\"colorbar\":{\"outlinewidth\":0,\"ticks\":\"\"}}}],\"bar\":[{\"error_x\":{\"color\":\"#f2f5fa\"},\"error_y\":{\"color\":\"#f2f5fa\"},\"marker\":{\"line\":{\"color\":\"rgb(17,17,17)\",\"width\":0.5},\"pattern\":{\"fillmode\":\"overlay\",\"size\":10,\"solidity\":0.2}},\"type\":\"bar\"}],\"scattergeo\":[{\"type\":\"scattergeo\",\"marker\":{\"colorbar\":{\"outlinewidth\":0,\"ticks\":\"\"}}}],\"scatterpolar\":[{\"type\":\"scatterpolar\",\"marker\":{\"colorbar\":{\"outlinewidth\":0,\"ticks\":\"\"}}}],\"histogram\":[{\"marker\":{\"pattern\":{\"fillmode\":\"overlay\",\"size\":10,\"solidity\":0.2}},\"type\":\"histogram\"}],\"scattergl\":[{\"marker\":{\"line\":{\"color\":\"#283442\"}},\"type\":\"scattergl\"}],\"scatter3d\":[{\"type\":\"scatter3d\",\"line\":{\"colorbar\":{\"outlinewidth\":0,\"ticks\":\"\"}},\"marker\":{\"colorbar\":{\"outlinewidth\":0,\"ticks\":\"\"}}}],\"scattermapbox\":[{\"type\":\"scattermapbox\",\"marker\":{\"colorbar\":{\"outlinewidth\":0,\"ticks\":\"\"}}}],\"scatterternary\":[{\"type\":\"scatterternary\",\"marker\":{\"colorbar\":{\"outlinewidth\":0,\"ticks\":\"\"}}}],\"scattercarpet\":[{\"type\":\"scattercarpet\",\"marker\":{\"colorbar\":{\"outlinewidth\":0,\"ticks\":\"\"}}}],\"carpet\":[{\"aaxis\":{\"endlinecolor\":\"#A2B1C6\",\"gridcolor\":\"#506784\",\"linecolor\":\"#506784\",\"minorgridcolor\":\"#506784\",\"startlinecolor\":\"#A2B1C6\"},\"baxis\":{\"endlinecolor\":\"#A2B1C6\",\"gridcolor\":\"#506784\",\"linecolor\":\"#506784\",\"minorgridcolor\":\"#506784\",\"startlinecolor\":\"#A2B1C6\"},\"type\":\"carpet\"}],\"table\":[{\"cells\":{\"fill\":{\"color\":\"#506784\"},\"line\":{\"color\":\"rgb(17,17,17)\"}},\"header\":{\"fill\":{\"color\":\"#2a3f5f\"},\"line\":{\"color\":\"rgb(17,17,17)\"}},\"type\":\"table\"}],\"barpolar\":[{\"marker\":{\"line\":{\"color\":\"rgb(17,17,17)\",\"width\":0.5},\"pattern\":{\"fillmode\":\"overlay\",\"size\":10,\"solidity\":0.2}},\"type\":\"barpolar\"}],\"pie\":[{\"automargin\":true,\"type\":\"pie\"}]},\"layout\":{\"autotypenumbers\":\"strict\",\"colorway\":[\"#636efa\",\"#EF553B\",\"#00cc96\",\"#ab63fa\",\"#FFA15A\",\"#19d3f3\",\"#FF6692\",\"#B6E880\",\"#FF97FF\",\"#FECB52\"],\"font\":{\"color\":\"#f2f5fa\"},\"hovermode\":\"closest\",\"hoverlabel\":{\"align\":\"left\"},\"paper_bgcolor\":\"rgb(17,17,17)\",\"plot_bgcolor\":\"rgb(17,17,17)\",\"polar\":{\"bgcolor\":\"rgb(17,17,17)\",\"angularaxis\":{\"gridcolor\":\"#506784\",\"linecolor\":\"#506784\",\"ticks\":\"\"},\"radialaxis\":{\"gridcolor\":\"#506784\",\"linecolor\":\"#506784\",\"ticks\":\"\"}},\"ternary\":{\"bgcolor\":\"rgb(17,17,17)\",\"aaxis\":{\"gridcolor\":\"#506784\",\"linecolor\":\"#506784\",\"ticks\":\"\"},\"baxis\":{\"gridcolor\":\"#506784\",\"linecolor\":\"#506784\",\"ticks\":\"\"},\"caxis\":{\"gridcolor\":\"#506784\",\"linecolor\":\"#506784\",\"ticks\":\"\"}},\"coloraxis\":{\"colorbar\":{\"outlinewidth\":0,\"ticks\":\"\"}},\"colorscale\":{\"sequential\":[[0.0,\"#0d0887\"],[0.1111111111111111,\"#46039f\"],[0.2222222222222222,\"#7201a8\"],[0.3333333333333333,\"#9c179e\"],[0.4444444444444444,\"#bd3786\"],[0.5555555555555556,\"#d8576b\"],[0.6666666666666666,\"#ed7953\"],[0.7777777777777778,\"#fb9f3a\"],[0.8888888888888888,\"#fdca26\"],[1.0,\"#f0f921\"]],\"sequentialminus\":[[0.0,\"#0d0887\"],[0.1111111111111111,\"#46039f\"],[0.2222222222222222,\"#7201a8\"],[0.3333333333333333,\"#9c179e\"],[0.4444444444444444,\"#bd3786\"],[0.5555555555555556,\"#d8576b\"],[0.6666666666666666,\"#ed7953\"],[0.7777777777777778,\"#fb9f3a\"],[0.8888888888888888,\"#fdca26\"],[1.0,\"#f0f921\"]],\"diverging\":[[0,\"#8e0152\"],[0.1,\"#c51b7d\"],[0.2,\"#de77ae\"],[0.3,\"#f1b6da\"],[0.4,\"#fde0ef\"],[0.5,\"#f7f7f7\"],[0.6,\"#e6f5d0\"],[0.7,\"#b8e186\"],[0.8,\"#7fbc41\"],[0.9,\"#4d9221\"],[1,\"#276419\"]]},\"xaxis\":{\"gridcolor\":\"#283442\",\"linecolor\":\"#506784\",\"ticks\":\"\",\"title\":{\"standoff\":15},\"zerolinecolor\":\"#283442\",\"automargin\":true,\"zerolinewidth\":2},\"yaxis\":{\"gridcolor\":\"#283442\",\"linecolor\":\"#506784\",\"ticks\":\"\",\"title\":{\"standoff\":15},\"zerolinecolor\":\"#283442\",\"automargin\":true,\"zerolinewidth\":2},\"scene\":{\"xaxis\":{\"backgroundcolor\":\"rgb(17,17,17)\",\"gridcolor\":\"#506784\",\"linecolor\":\"#506784\",\"showbackground\":true,\"ticks\":\"\",\"zerolinecolor\":\"#C8D4E3\",\"gridwidth\":2},\"yaxis\":{\"backgroundcolor\":\"rgb(17,17,17)\",\"gridcolor\":\"#506784\",\"linecolor\":\"#506784\",\"showbackground\":true,\"ticks\":\"\",\"zerolinecolor\":\"#C8D4E3\",\"gridwidth\":2},\"zaxis\":{\"backgroundcolor\":\"rgb(17,17,17)\",\"gridcolor\":\"#506784\",\"linecolor\":\"#506784\",\"showbackground\":true,\"ticks\":\"\",\"zerolinecolor\":\"#C8D4E3\",\"gridwidth\":2}},\"shapedefaults\":{\"line\":{\"color\":\"#f2f5fa\"}},\"annotationdefaults\":{\"arrowcolor\":\"#f2f5fa\",\"arrowhead\":0,\"arrowwidth\":1},\"geo\":{\"bgcolor\":\"rgb(17,17,17)\",\"landcolor\":\"rgb(17,17,17)\",\"subunitcolor\":\"#506784\",\"showland\":true,\"showlakes\":true,\"lakecolor\":\"rgb(17,17,17)\"},\"title\":{\"x\":0.05},\"updatemenudefaults\":{\"bgcolor\":\"#506784\",\"borderwidth\":0},\"sliderdefaults\":{\"bgcolor\":\"#C8D4E3\",\"borderwidth\":1,\"bordercolor\":\"rgb(17,17,17)\",\"tickwidth\":0},\"mapbox\":{\"style\":\"dark\"}}},\"title\":{\"text\":\"The spread of data relative to the ideal 22%\"},\"xaxis\":{\"title\":{\"text\":\"Data point number\"}},\"yaxis\":{\"title\":{\"text\":\"Relative value from ideal (%)\"}},\"showlegend\":true},                        {\"responsive\": true}                    ).then(function(){\n                            \nvar gd = document.getElementById('450a8c66-e5d4-4e12-a209-2429e3f9fbed');\nvar x = new MutationObserver(function (mutations, observer) {{\n        var display = window.getComputedStyle(gd).display;\n        if (!display || display === 'none') {{\n            console.log([gd, 'removed!']);\n            Plotly.purge(gd);\n            observer.disconnect();\n        }}\n}});\n\n// Listen for the removal of the full notebook cells\nvar notebookContainer = gd.closest('#notebook-container');\nif (notebookContainer) {{\n    x.observe(notebookContainer, {childList: true});\n}}\n\n// Listen for the clearing of the current output cell\nvar outputEl = gd.closest('.output');\nif (outputEl) {{\n    x.observe(outputEl, {childList: true});\n}}\n\n                        })                };                });            </script>        </div>"
     },
     "metadata": {},
     "output_type": "display_data"
    }
   ],
   "source": [
    "visual_discrepancies()"
   ],
   "metadata": {
    "collapsed": false,
    "ExecuteTime": {
     "end_time": "2023-11-28T16:07:18.257803900Z",
     "start_time": "2023-11-28T16:07:18.232803300Z"
    }
   },
   "id": "76503cdb553ba941"
  },
  {
   "cell_type": "code",
   "execution_count": 195,
   "outputs": [
    {
     "data": {
      "text/plain": "77.58985200845666"
     },
     "execution_count": 195,
     "metadata": {},
     "output_type": "execute_result"
    }
   ],
   "source": [
    "discrepancies_mas_area_difference['area_difference'][15]"
   ],
   "metadata": {
    "collapsed": false,
    "ExecuteTime": {
     "end_time": "2023-11-28T16:07:34.895723700Z",
     "start_time": "2023-11-28T16:07:34.875724900Z"
    }
   },
   "id": "5512517e2554fef1"
  },
  {
   "cell_type": "code",
   "execution_count": 199,
   "outputs": [
    {
     "data": {
      "text/plain": "'108.jpg'"
     },
     "execution_count": 199,
     "metadata": {},
     "output_type": "execute_result"
    }
   ],
   "source": [
    "discrepancies_mas_area_difference['file'][15]"
   ],
   "metadata": {
    "collapsed": false,
    "ExecuteTime": {
     "end_time": "2023-11-28T16:08:33.625353500Z",
     "start_time": "2023-11-28T16:08:33.598604100Z"
    }
   },
   "id": "6ef6f6cc97f9f1a4"
  },
  {
   "cell_type": "code",
   "execution_count": 196,
   "outputs": [
    {
     "data": {
      "text/plain": "85.92225243960966"
     },
     "execution_count": 196,
     "metadata": {},
     "output_type": "execute_result"
    }
   ],
   "source": [
    "discrepancies_mas_intersection_area['intersection_area'][3]"
   ],
   "metadata": {
    "collapsed": false,
    "ExecuteTime": {
     "end_time": "2023-11-28T16:07:45.774138300Z",
     "start_time": "2023-11-28T16:07:45.757622800Z"
    }
   },
   "id": "606192f682782231"
  }
 ],
 "metadata": {
  "kernelspec": {
   "display_name": "Python 3",
   "language": "python",
   "name": "python3"
  },
  "language_info": {
   "codemirror_mode": {
    "name": "ipython",
    "version": 2
   },
   "file_extension": ".py",
   "mimetype": "text/x-python",
   "name": "python",
   "nbconvert_exporter": "python",
   "pygments_lexer": "ipython2",
   "version": "2.7.6"
  }
 },
 "nbformat": 4,
 "nbformat_minor": 5
}
